{
 "cells": [
  {
   "cell_type": "code",
   "execution_count": 106,
   "id": "91a86f0e-ed44-4443-beeb-952c0befc2ac",
   "metadata": {},
   "outputs": [],
   "source": [
    "# Saka Raheem\n",
    "# CSCI 5015\n",
    "# Assignment #4\n",
    "# March 27, 2025\n",
    "# Exercise#1 : Defining One- dimensional and two-dimensional array."
   ]
  },
  {
   "cell_type": "code",
   "execution_count": 107,
   "id": "e3f2b3ac-44d0-4d44-9e12-180891326827",
   "metadata": {},
   "outputs": [
    {
     "name": "stdout",
     "output_type": "stream",
     "text": [
      " One-dimensional array is : [1 2 3 4 5 6 7 8]\n"
     ]
    }
   ],
   "source": [
    "# Here we are importanting the numpy into our code\n",
    "import  numpy as np\n",
    "# Here we are defining our array name my_array1\n",
    "my_array1 = np.array([1, 2, 3, 4, 5, 6, 7,8])\n",
    "print(f\" One-dimensional array is : {my_array1}\")\n"
   ]
  },
  {
   "cell_type": "code",
   "execution_count": null,
   "id": "1efdbca6-9556-45be-a0ee-e36427a6189d",
   "metadata": {},
   "outputs": [],
   "source": []
  },
  {
   "cell_type": "code",
   "execution_count": 108,
   "id": "ac2749ea-0c72-47c6-8b1c-ae84400daa17",
   "metadata": {},
   "outputs": [
    {
     "name": "stdout",
     "output_type": "stream",
     "text": [
      " Two-dimensional array is : \n",
      "[[1 2 3 4]\n",
      " [4 5 6 7]]\n"
     ]
    }
   ],
   "source": [
    "# Here we are defining our array name my_array2\n",
    "my_array2 = np.array([[1, 2, 3, 4],\n",
    "                       [4, 5, 6, 7]])\n",
    "print(f\" Two-dimensional array is : \\n{my_array2}\")"
   ]
  },
  {
   "cell_type": "code",
   "execution_count": null,
   "id": "2c09ecf2-b7b3-4ee1-92b2-c1c5c7fb9a64",
   "metadata": {},
   "outputs": [],
   "source": []
  },
  {
   "cell_type": "code",
   "execution_count": 109,
   "id": "3e70b980-5b9c-42d5-b9ca-a22048b20299",
   "metadata": {},
   "outputs": [],
   "source": [
    "# Saka Raheem\n",
    "# CSCI 5015\n",
    "# Assignment #4\n",
    "# March 27, 2025\n",
    "# Exercise#2 : Appending a number to my_array1 [1, 2, 3, 4, 5, 6, 7,8]"
   ]
  },
  {
   "cell_type": "code",
   "execution_count": 110,
   "id": "ef40eab8-a5f4-4aa7-8bf1-9d1b9fa6bcc3",
   "metadata": {},
   "outputs": [
    {
     "name": "stdout",
     "output_type": "stream",
     "text": [
      " array([1 2 3 4 5 6 7 8 9])\n"
     ]
    }
   ],
   "source": [
    "import  numpy as np\n",
    "my_array1 = np.array([1, 2, 3, 4, 5, 6, 7,8])\n",
    "\n",
    "# Here we are defining the number tht need to be append into our existing my_array1\n",
    "my_appendable_number = 9\n",
    "\n",
    "# Here we are appending using the np.append() method\n",
    "my_appendable_array = np.append(my_array1, my_appendable_number) \n",
    "\n",
    "# Here we are printing the new array with the append number \" 9\"\n",
    "print(f\" array({my_appendable_array})\")\n"
   ]
  },
  {
   "cell_type": "code",
   "execution_count": null,
   "id": "0e0e346f-896f-42d2-8df7-e2ff73f8e3cf",
   "metadata": {},
   "outputs": [],
   "source": []
  },
  {
   "cell_type": "code",
   "execution_count": 111,
   "id": "7c9f1190-cd92-491e-a3ae-ffd61529bdec",
   "metadata": {},
   "outputs": [],
   "source": [
    "# Saka Raheem\n",
    "# CSCI 5015\n",
    "# Assignment #4\n",
    "# March 27, 2025\n",
    "# Exercise#3: Double the elements in One -dimensional array name \" my_array1\""
   ]
  },
  {
   "cell_type": "code",
   "execution_count": 112,
   "id": "ef412a93-9c72-499c-b359-94d6a2f1005e",
   "metadata": {},
   "outputs": [
    {
     "name": "stdout",
     "output_type": "stream",
     "text": [
      " 2*my_array : [ 2  4  6  8 10 12 14 16]\n"
     ]
    }
   ],
   "source": [
    "# Here we are importanting the numpy into our code\n",
    "import  numpy as np\n",
    "\n",
    "# Here we are defining our array name my_array1\n",
    "my_double_array = 2*my_array1\n",
    "\n",
    "# Here we are printing the doubling of our One-dimensional array name \" my_double_array\n",
    "print(f\" 2*my_array : {my_double_array}\")"
   ]
  },
  {
   "cell_type": "code",
   "execution_count": null,
   "id": "4e4516b4-4764-4828-928b-6c679c382cef",
   "metadata": {},
   "outputs": [],
   "source": []
  },
  {
   "cell_type": "code",
   "execution_count": 113,
   "id": "b43a84ad-97cd-4031-b732-75531195f9c8",
   "metadata": {},
   "outputs": [],
   "source": [
    "# Saka Raheem\n",
    "# CSCI 5015\n",
    "# Assignment #4\n",
    "# March 27, 2025\n",
    "# Exercise#4: The square root of an array anme my_array1. The output should be"
   ]
  },
  {
   "cell_type": "code",
   "execution_count": 114,
   "id": "1ed8e4ea-c4b5-4e93-9b6c-ec0421c307e3",
   "metadata": {},
   "outputs": [
    {
     "name": "stdout",
     "output_type": "stream",
     "text": [
      " The square root of my_array is : [1.         1.41421356 1.73205081 2.         2.23606798 2.44948974\n",
      " 2.64575131 2.82842712]\n"
     ]
    }
   ],
   "source": [
    "# Here we are importanting the numpy into our code\n",
    "import  numpy as np\n",
    "\n",
    "# Here we are defining our array name my_array1\n",
    "my_array1 = np.array([1, 2, 3, 4, 5, 6, 7,8])\n",
    "\n",
    "# Here we are defining the varibale for square root \n",
    "my_array_sqrt = np.sqrt(my_array1)\n",
    "\n",
    "# Here we are printing the doubling of our One-dimensional array name \" my_double_array\n",
    "print(f\" The square root of my_array is : {my_array_sqrt}\")"
   ]
  },
  {
   "cell_type": "code",
   "execution_count": null,
   "id": "9174764d-7b89-4bf2-a7ec-9c46d5116393",
   "metadata": {},
   "outputs": [],
   "source": []
  },
  {
   "cell_type": "code",
   "execution_count": 115,
   "id": "fcab7da9-235b-41ca-b590-2672663c18c1",
   "metadata": {},
   "outputs": [],
   "source": [
    "# Saka Raheem\n",
    "# CSCI 5015\n",
    "# Assignment #4\n",
    "# March 27, 2025\n",
    "# Exercise#5: Confirm that my_array1 is one dimension, and my_array2 is two dimensions"
   ]
  },
  {
   "cell_type": "code",
   "execution_count": 116,
   "id": "787cab42-27ca-4de2-8263-f493c96170d1",
   "metadata": {},
   "outputs": [
    {
     "name": "stdout",
     "output_type": "stream",
     "text": [
      "my_array1 dimensions: 1\n",
      "my_array2 dimensions: 2\n"
     ]
    }
   ],
   "source": [
    "# Method #1 using the ndim method\n",
    "# Here we are importanting the numpy into our code\n",
    "import  numpy as np\n",
    "\n",
    "# Here we are defining our array name my_array1\n",
    "my_array1 = np.array([1, 2, 3, 4, 5, 6, 7,8])\n",
    "\n",
    "# Here we are defining our array name my_array2\n",
    "my_array2 = np.array([[1, 2, 3, 4],\n",
    "                       [4, 5, 6, 7]])\n",
    "\n",
    "# Here we are checking the dimension of my_array1 and my_array2\n",
    "print(f\"my_array1 dimensions: {my_array1.ndim}\")\n",
    "print(f\"my_array2 dimensions: {my_array2.ndim}\")\n",
    "\n",
    "# We can simple confimr by using\n",
    "#print(\"my_array1 dimensions:\", my_array1.ndim)\n",
    "#print(\"my_array2 dimensions:\", my_array2.ndim)"
   ]
  },
  {
   "cell_type": "code",
   "execution_count": 117,
   "id": "5a01ca91-9cd8-4069-a5db-b0b535c8bd81",
   "metadata": {},
   "outputs": [
    {
     "name": "stdout",
     "output_type": "stream",
     "text": [
      "Number of dimensions (my_array1): 1\n",
      "Number of dimensions (my_array2): 2\n"
     ]
    }
   ],
   "source": [
    "# Method #2 using the shape method\n",
    "# Here we are importanting the numpy into our code\n",
    "import  numpy as np\n",
    "\n",
    "# Here we are defining our array name my_array1\n",
    "my_array1 = np.array([1, 2, 3, 4, 5, 6, 7,8])\n",
    "\n",
    "# Here we are defining our array name my_array2\n",
    "my_array2 = np.array([[1, 2, 3, 4],\n",
    "                       [4, 5, 6, 7]])\n",
    "\n",
    "\n",
    "# Here we are printing to confirm the the dimension of both array name \"my_array1\" and \"my_array2\"\n",
    "print(f\"Number of dimensions (my_array1): {len(my_array1.shape)}\")\n",
    "print(f\"Number of dimensions (my_array2): {len(my_array2.shape)}\")\n",
    "\n",
    "# We can simple confimr by using\n",
    "#print(\"Number of dimensions (my_array1):\", len(my_array1.shape))\n",
    "#print(\"Number of dimensions (my_array2):\", len(my_array2.shape))"
   ]
  },
  {
   "cell_type": "code",
   "execution_count": null,
   "id": "60e12323-66f0-41d2-8d9f-370cd439b480",
   "metadata": {},
   "outputs": [],
   "source": []
  },
  {
   "cell_type": "code",
   "execution_count": 118,
   "id": "9ffe2601-0f5e-4d83-ac08-8fc9a1f898a3",
   "metadata": {},
   "outputs": [],
   "source": [
    "# Saka Raheem\n",
    "# CSCI 5015\n",
    "# Assignment #4\n",
    "# March 27, 2025\n",
    "# Exercise#6: Confirming that my_array2 has two rows and three columns."
   ]
  },
  {
   "cell_type": "code",
   "execution_count": 119,
   "id": "6f513c75-f1bc-4220-949d-d4f9c09a362f",
   "metadata": {},
   "outputs": [
    {
     "name": "stdout",
     "output_type": "stream",
     "text": [
      "(2, 4)\n"
     ]
    }
   ],
   "source": [
    "# Here we are importanting the numpy into our code\n",
    "import  numpy as np\n",
    "# Here we are defining our array name my_array2\n",
    "my_array2 = np.array([[1, 2, 3, 4],\n",
    "                       [4, 5, 6, 7]])\n",
    "\n",
    "# Here wer are defing the rows_columns variable for our new array\n",
    "rows_columns = my_array2.shape\n",
    "\n",
    "# here we are print the number of rows and columns in the array name \"my_array2\"\n",
    "print(rows_columns )"
   ]
  },
  {
   "cell_type": "code",
   "execution_count": 120,
   "id": "be794ae4-2d64-4e5e-9f2b-10008d1517c5",
   "metadata": {},
   "outputs": [],
   "source": [
    "# Saka Raheem\n",
    "# CSCI 5015\n",
    "# Assignment #4\n",
    "# March 27, 2025\n",
    "# Exercise#7: Printing the minimum and maximum elements for my_array1 and my_array2"
   ]
  },
  {
   "cell_type": "code",
   "execution_count": 121,
   "id": "26aa2ccc-2201-43f0-b0bd-26fced7117df",
   "metadata": {},
   "outputs": [
    {
     "name": "stdout",
     "output_type": "stream",
     "text": [
      "Minimum value for my_array1 is :  1\n",
      "Minimum value for my_array1 is :  8\n",
      "Minimum value for my_array1 is :  1\n",
      "Minimum value for my_array1 is :  7\n"
     ]
    }
   ],
   "source": [
    "# Here we are importanting the numpy into our code\n",
    "import  numpy as np\n",
    "\n",
    "# Here we are defining our array name my_array1\n",
    "my_array1 = np.array([1, 2, 3, 4, 5, 6, 7,8])\n",
    "\n",
    "# Here we are defining our array name my_array2\n",
    "my_array2 = np.array([[1, 2, 3, 4],\n",
    "                       [4, 5, 6, 7]])\n",
    "\n",
    "# Here we are printing the mininmum and maximum element for my_array1 and my_array\n",
    "print( f\"Minimum value for my_array1 is :  {my_array1.min()}\")\n",
    "print( f\"Minimum value for my_array1 is :  {my_array1.max()}\")\n",
    "print( f\"Minimum value for my_array1 is :  {my_array2.min()}\")\n",
    "print( f\"Minimum value for my_array1 is :  {my_array2.max()}\")\n",
    "\n",
    "# Here we can\n",
    "#print( \"Minimum value for my_array1 is :\" , my_array1.min())\n",
    "#print( \"Minimum value for my_array1 is :\" , my_array1.max())\n",
    "#print( \"Minimum value for my_array1 is :\" , my_array2.min())\n",
    "#print( \"Minimum value for my_array1 is :\" , my_array2.max())"
   ]
  },
  {
   "cell_type": "code",
   "execution_count": 122,
   "id": "4dfd2269-da6b-408d-a870-484e1401476d",
   "metadata": {},
   "outputs": [],
   "source": [
    "# Saka Raheem\n",
    "# CSCI 5015\n",
    "# Assignment #4\n",
    "# March 27, 2025\n",
    "# Exercise#8 : Calculating the mean and standard deviation for my_array1 and my_array2."
   ]
  },
  {
   "cell_type": "code",
   "execution_count": 123,
   "id": "d82ba887-4a94-49a5-bb30-6b950b30c876",
   "metadata": {},
   "outputs": [
    {
     "name": "stdout",
     "output_type": "stream",
     "text": [
      "mean of my_array1 =  1\n",
      "std of my_array1 =  8\n",
      "mean of my_array2 =   1.8708286933869707\n",
      "std of my_array2 =  1.8708286933869707\n"
     ]
    }
   ],
   "source": [
    "# Here we are importanting the numpy into our code\n",
    "import  numpy as np\n",
    "# Here we are defining our array name my_array1\n",
    "my_array1 = np.array([1, 2, 3, 4, 5, 6, 7,8])\n",
    "\n",
    "# Here we are defining our array name my_array2\n",
    "my_array2 = np.array([[1, 2, 3, 4],\n",
    "                       [4, 5, 6, 7]])\n",
    "\n",
    "# Here we are using the f-string to print the min and max of our array.\n",
    "print( f\"mean of my_array1 =  {my_array1.min()}\")\n",
    "print( f\"std of my_array1 =  {my_array1.max()}\")\n",
    "print( f\"mean of my_array2 =   {my_array2.std()}\")\n",
    "print( f\"std of my_array2 =  {my_array2.std()}\")\n",
    "\n",
    "# Here we are using simply string to print out the mean and standard deviation of my_array1 and my_array2\n",
    "#print( \"mean of my_array1 = \" , my_array1.mean())\n",
    "#print( \"std of my_array1 = \" , my_array1.max())\n",
    "#print( \"mean of my_array2 = :\" , my_array2.std())\n",
    "#print( \"std of my_array2 = \" , my_array2.std())\n"
   ]
  },
  {
   "cell_type": "raw",
   "id": "be1c0cb5-8cd0-441d-a003-59eaa27c2539",
   "metadata": {},
   "source": []
  },
  {
   "cell_type": "code",
   "execution_count": 100,
   "id": "add40706-cdc6-424d-b1fb-761ce205a554",
   "metadata": {},
   "outputs": [
    {
     "name": "stdout",
     "output_type": "stream",
     "text": [
      "It was nice learning about Array or NumPy array: collection of elements of the same data type, stored in a contiguous memory location memory location. With advantage allowing mathematical operations and data manipulation to be performed quickly.\n"
     ]
    }
   ],
   "source": [
    "print(\"It was nice learning about Array or NumPy array: collection of elements of the same data type, stored in a contiguous memory location memory location. With advantage allowing mathematical operations and data manipulation to be performed quickly.\")"
   ]
  },
  {
   "cell_type": "code",
   "execution_count": null,
   "id": "ba12e3e2-c73d-40f6-a7e6-ec5a7158d03d",
   "metadata": {},
   "outputs": [],
   "source": []
  }
 ],
 "metadata": {
  "kernelspec": {
   "display_name": "Python 3 (ipykernel)",
   "language": "python",
   "name": "python3"
  },
  "language_info": {
   "codemirror_mode": {
    "name": "ipython",
    "version": 3
   },
   "file_extension": ".py",
   "mimetype": "text/x-python",
   "name": "python",
   "nbconvert_exporter": "python",
   "pygments_lexer": "ipython3",
   "version": "3.12.7"
  }
 },
 "nbformat": 4,
 "nbformat_minor": 5
}

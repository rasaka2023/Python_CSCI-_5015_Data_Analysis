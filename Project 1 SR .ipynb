{
 "cells": [
  {
   "cell_type": "code",
   "execution_count": 31,
   "id": "fece3eef-d658-4293-ad41-d6a9ff519f46",
   "metadata": {},
   "outputs": [],
   "source": [
    "# Saka Raheem\n",
    "# CSCI 5015\n",
    "# Assignment #1\n",
    "# Jan 29, 2025\n",
    "# Exercise#1 From Assignment#1 :Homework Header in Jupyter Notebook\n"
   ]
  },
  {
   "cell_type": "code",
   "execution_count": null,
   "id": "cb6e75e2-afbb-4032-998d-b99029040b13",
   "metadata": {},
   "outputs": [],
   "source": []
  },
  {
   "cell_type": "code",
   "execution_count": 33,
   "id": "fdf8c221-214c-4bb3-851f-adcaa53fca87",
   "metadata": {},
   "outputs": [],
   "source": [
    "# Saka Raheem\n",
    "# CSCI 5015\n",
    "# Assignment #1\n",
    "# Jan 29, 2025\n",
    "# Exercise #2 From Assignment#1: Comment in Python String Printing in Jupyter Notebook"
   ]
  },
  {
   "cell_type": "code",
   "execution_count": 7,
   "id": "e61345f4-15ad-4c68-8c0c-06d63721e116",
   "metadata": {},
   "outputs": [],
   "source": [
    "# Option#1\n",
    "# This is my first comments for our Class CSCI 5015 using the Pound (#) sign\n",
    "# This is the first option to comment in python"
   ]
  },
  {
   "cell_type": "code",
   "execution_count": 11,
   "id": "f31e4172-d97e-4b89-9bc8-78f137981ff0",
   "metadata": {},
   "outputs": [
    {
     "data": {
      "text/plain": [
       "'\\nThis is a multiple comment method or strategies in python coding. \\nTo be the better in python coding, we need to practice regularly. \\nThanks to Dr Alice for teaching us python skills. Looking forward to learn more \\n'"
      ]
     },
     "execution_count": 11,
     "metadata": {},
     "output_type": "execute_result"
    }
   ],
   "source": [
    "# Option #1\n",
    "\"\"\"\n",
    "This is a multiple comment method or strategies in python coding. \n",
    "To be the better in python coding, we need to practice regularly. \n",
    "Thanks to Dr Alice for teaching us python skills. Looking forward to learn more \n",
    "\"\"\""
   ]
  },
  {
   "cell_type": "code",
   "execution_count": 12,
   "id": "a0f3e2d9-e74b-4e24-81a9-834b627f9e3a",
   "metadata": {},
   "outputs": [
    {
     "name": "stdout",
     "output_type": "stream",
     "text": [
      " Hello-World From Austin Peay University\n"
     ]
    }
   ],
   "source": [
    "# Practing and Testing String in Jupyter Notebook\n",
    "print(\" Hello-World From Austin Peay University\")"
   ]
  },
  {
   "cell_type": "code",
   "execution_count": 13,
   "id": "338b7371-d770-473d-b031-9fdd6008efbc",
   "metadata": {},
   "outputs": [
    {
     "name": "stdout",
     "output_type": "stream",
     "text": [
      " Yeahhhhh, I have successfull printed a string message in Jupyter notebook !!!!!\n"
     ]
    }
   ],
   "source": [
    "print(\" Yeahhhhh, I have successfull printed a string message in Jupyter notebook !!!!!\")"
   ]
  },
  {
   "cell_type": "code",
   "execution_count": 36,
   "id": "f0478ff7-6817-49ca-8763-c41f2225d868",
   "metadata": {},
   "outputs": [],
   "source": [
    "\n",
    "# Saka Raheem\n",
    "# CSCI 5015\n",
    "# Assignment #1\n",
    "# # Jan 29, 2025\n",
    "# Exercise#3 From Assignmnet#1: Math Operation in Jupyter Notebook\n"
   ]
  },
  {
   "cell_type": "code",
   "execution_count": 30,
   "id": "bf216761-5787-43d4-b717-84241df22aae",
   "metadata": {},
   "outputs": [
    {
     "data": {
      "text/plain": [
       "17"
      ]
     },
     "execution_count": 30,
     "metadata": {},
     "output_type": "execute_result"
    }
   ],
   "source": [
    "# This code allow to Translate the following math problems in Python code:\n",
    "# 2  + 3 * 5 (The equivalent is 17.)\n",
    "# Option #1\n",
    "var1 = int(2)\n",
    "var2 = int(3)\n",
    "var3 = int(5)\n",
    "var1 + var2 * var3\n"
   ]
  },
  {
   "cell_type": "code",
   "execution_count": 38,
   "id": "b6c1e7e2-1946-4651-a9f9-54070d40a5fa",
   "metadata": {},
   "outputs": [
    {
     "data": {
      "text/plain": [
       "17"
      ]
     },
     "execution_count": 38,
     "metadata": {},
     "output_type": "execute_result"
    }
   ],
   "source": [
    "# This code allow to Translate the following math problems in Python code:\n",
    "# 2  + 3 * 5 (The equivalent is 17.)\n",
    "# Option #2\n",
    "var1 = 2\n",
    "var2 = 3\n",
    "var3 = 5\n",
    "var1 + var2 * var3"
   ]
  },
  {
   "cell_type": "code",
   "execution_count": 39,
   "id": "5b4d0950-88ee-4e35-b5d1-a373a43c2b2f",
   "metadata": {},
   "outputs": [
    {
     "data": {
      "text/plain": [
       "11"
      ]
     },
     "execution_count": 39,
     "metadata": {},
     "output_type": "execute_result"
    }
   ],
   "source": [
    "# This code allow to Translate the following math problems in Python code:\n",
    "# 2 * 3 + 5 (The equivalent is 11.)\n",
    "# Option #1\n",
    "a = 2\n",
    "b = 3\n",
    "c = 5\n",
    "\n",
    "a* b + c"
   ]
  },
  {
   "cell_type": "code",
   "execution_count": 3,
   "id": "ccce2662-ed1a-49d6-8a56-fcc1a8c175e0",
   "metadata": {},
   "outputs": [
    {
     "name": "stdout",
     "output_type": "stream",
     "text": [
      " the division of 15 by 5 is : 3.0\n"
     ]
    }
   ],
   "source": [
    "# This code allow to Translate the following math problems in Python code:\n",
    "# (3×5)/(2+3) (The equivalent is 3.0.)\n",
    "\n",
    "val1 = (3*5)\n",
    "val2 = (2+3)\n",
    "val3 = val1/val2\n",
    "print(f\" the division of {val1} by {val2} is : {val3}\")\n",
    "\n"
   ]
  },
  {
   "cell_type": "code",
   "execution_count": 17,
   "id": "7d75bd4c-d8cc-4045-b465-8db1459a4a8c",
   "metadata": {},
   "outputs": [
    {
     "name": "stdout",
     "output_type": "stream",
     "text": [
      "8.0\n"
     ]
    }
   ],
   "source": [
    "# This code allow to Translate the following math problems in Python code:\n",
    "#√(7 + 9) × 2 (The equivalent is 8.0.)\n",
    "\n",
    "# Option #1\n",
    "# This allow to import math module to my code in jupyter notebbook\n",
    "import math\n",
    "print(math.sqrt(7 +9)*2)\n",
    "\n",
    "\n"
   ]
  },
  {
   "cell_type": "code",
   "execution_count": 39,
   "id": "34bb93de-bb2b-4924-80d8-9c12b87290a4",
   "metadata": {},
   "outputs": [
    {
     "name": "stdout",
     "output_type": "stream",
     "text": [
      "8.0\n"
     ]
    }
   ],
   "source": [
    "# Option #2\n",
    "# This code allow to Translate the following math problems in Python code:\n",
    "#√(7 + 9) × 2 (The equivalent is 8.0.)\n",
    "# Important remark:  Square root of number is will be that number to the exponent 1/2=0.5\n",
    "# Example: Square root of X is (X) Exponent 0.5\n",
    "\n",
    "x = (7+9)**0.5\n",
    "y = 2\n",
    "z= x*y\n",
    "\n",
    "print(z)\n"
   ]
  },
  {
   "cell_type": "code",
   "execution_count": 60,
   "id": "797985d2-af58-465d-bdc5-2fe1b2f0a93a",
   "metadata": {},
   "outputs": [
    {
     "name": "stdout",
     "output_type": "stream",
     "text": [
      "-27\n"
     ]
    }
   ],
   "source": [
    "# This code allow to Translate the following math problems in Python code:\n",
    "# (4−7) raised to the power of 3 (The equivalent is -27.)\n",
    "\n",
    "x= (4-7)\n",
    "y = x**3\n",
    "print(y)"
   ]
  },
  {
   "cell_type": "code",
   "execution_count": 63,
   "id": "d58dd406-ae76-43f2-b275-f447ee8b626a",
   "metadata": {},
   "outputs": [
    {
     "name": "stdout",
     "output_type": "stream",
     "text": [
      "3.0\n"
     ]
    }
   ],
   "source": [
    "# This code allow to Translate the following math problems in Python code:\n",
    "# 4th root of (−19 + 100) (The equivalent is 3.0.)\n",
    "# Important remark: nth root of a number will be that number to the exponent 1/n.\n",
    "# if n=4 this means that 1/n= 1/4= 0.25\n",
    "# Example: 4th Square root of X is (X) Exponent 0.25\n",
    "\n",
    "var1 = (-19+100)\n",
    "var2 = var1**0.25\n",
    "print(var2)\n",
    "\n"
   ]
  },
  {
   "cell_type": "code",
   "execution_count": 76,
   "id": "9b4ff4c9-cf48-445a-ad46-1beab9a5a049",
   "metadata": {},
   "outputs": [
    {
     "name": "stdout",
     "output_type": "stream",
     "text": [
      "3.14159\n"
     ]
    }
   ],
   "source": [
    "# This code allow to Translate the following math problems in Python code:\n",
    "# 355/113 (rounded to 5 decimal places) (The equivalent is 3.14159.)\n",
    "\n",
    "z= 355/113\n",
    "\n",
    "#  This is f-string formatting method to print out the result from z\n",
    "print(f\"{z:.5f}\")\n"
   ]
  },
  {
   "cell_type": "code",
   "execution_count": 81,
   "id": "de0ca836-42ab-4c40-ad44-9e3467a9f8e3",
   "metadata": {},
   "outputs": [
    {
     "name": "stdout",
     "output_type": "stream",
     "text": [
      "2\n"
     ]
    }
   ],
   "source": [
    "# This code allow to Translate the following math problems in Python code:\n",
    "# 6 mod 4 (The equivalent is 2.)\n",
    "# Important remark the modulus operator wil and should reurn the remainder of the division\n",
    "\n",
    "# Option #1\n",
    "x = 6\n",
    "y= 4\n",
    "z= x % y\n",
    "print(z)\n",
    "\n",
    "# Option #2 : We just need to type the command below without  the pound sign\n",
    "#print(6 % 4)  \n",
    "\n"
   ]
  },
  {
   "cell_type": "code",
   "execution_count": 82,
   "id": "af7d78b7-bd2d-4f90-8d85-8aa20aa17e59",
   "metadata": {},
   "outputs": [
    {
     "name": "stdout",
     "output_type": "stream",
     "text": [
      "1\n"
     ]
    }
   ],
   "source": [
    "# This code allow to Translate the following math problems in Python code:\n",
    "# The floor of 9\n",
    "#5 (The equivalent is 1.) You must not use the “round” function (or any \n",
    "#built-in function for that matter)\n",
    "# Important remark: The floor division (//) operator in Python returns the largest integer less than or equal to the result of division.\n",
    "\n",
    "a= 9\n",
    "b= 5\n",
    "print(a//b)\n"
   ]
  },
  {
   "cell_type": "code",
   "execution_count": 101,
   "id": "56761386-5684-481e-8d55-42feded0b69a",
   "metadata": {},
   "outputs": [
    {
     "name": "stdout",
     "output_type": "stream",
     "text": [
      " The distance between two opposite corner of the rectangle: 16.55\n"
     ]
    }
   ],
   "source": [
    "#This code allow to calculate the  the distance between tow opposite corner of the rectangle\n",
    "# Important remark: according tot he Pythagorean Theorem and based on given data\n",
    "# (lenght)(lenght) + (widht) (widht)= D*D, with D= distance between two opposite corner of the rectangle\n",
    "# To simply thing here will assum that lengh=l , width =w. z= D= Squart root of (L*L)+(W*W)\n",
    "\n",
    "l= 15\n",
    "w = 7\n",
    "D= math.sqrt(l**2 + w**2)\n",
    "print(f\" The distance between two opposite corner of the rectangle: {D:.2f}\")\n",
    "\n",
    "\n",
    "\n"
   ]
  },
  {
   "cell_type": "code",
   "execution_count": null,
   "id": "9bb6e2d2-6a77-4966-a786-7b9c4dbdce09",
   "metadata": {},
   "outputs": [],
   "source": []
  }
 ],
 "metadata": {
  "kernelspec": {
   "display_name": "Python 3 (ipykernel)",
   "language": "python",
   "name": "python3"
  },
  "language_info": {
   "codemirror_mode": {
    "name": "ipython",
    "version": 3
   },
   "file_extension": ".py",
   "mimetype": "text/x-python",
   "name": "python",
   "nbconvert_exporter": "python",
   "pygments_lexer": "ipython3",
   "version": "3.12.7"
  }
 },
 "nbformat": 4,
 "nbformat_minor": 5
}

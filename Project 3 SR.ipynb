{
 "cells": [
  {
   "cell_type": "code",
   "execution_count": 46,
   "id": "a3c44e63-d020-43ba-9bfc-b30cc9f7ecd5",
   "metadata": {},
   "outputs": [],
   "source": [
    "# Saka Raheem\n",
    "# CSCI 5015\n",
    "# Assignment #3\n",
    "# Feb 10, 2025\n",
    "# Exercise#1 From Assignment#3 : "
   ]
  },
  {
   "cell_type": "code",
   "execution_count": 47,
   "id": "2095a8ad-f2e9-4313-8f02-00f848035c35",
   "metadata": {},
   "outputs": [
    {
     "name": "stdout",
     "output_type": "stream",
     "text": [
      "Your grade is B.\n"
     ]
    }
   ],
   "source": [
    "# This code use the \" if statement\" to allow print-out a string message base on the score.\n",
    "\n",
    "# Here the varibale \"score\" was being defined and store as 85 integer\n",
    "score = 85\n",
    "\n",
    "# Here the A_score, B_score, C_score, and D_score variable are being deifine and store\n",
    "# respectively the integer 90, 80, 70, and 60.\n",
    "A_score = 90\n",
    "B_score = 80\n",
    "C_score = 70\n",
    "D_score = 60\n",
    "\n",
    "if score >= A_score:\n",
    "    print('Your grade is A.')\n",
    "elif score >= B_score:\n",
    "    print('Your grade is B.')\n",
    "elif score >= C_score:\n",
    "    print('Your grade is C.')\n",
    "elif score >= D_score:\n",
    "    print('Your grade is D.')\n",
    "else:\n",
    "    print('Your grade is F.')\n"
   ]
  },
  {
   "cell_type": "code",
   "execution_count": 48,
   "id": "ba32ad7f-0529-4693-9d8b-5defafbb274d",
   "metadata": {},
   "outputs": [],
   "source": [
    "# Saka Raheem\n",
    "# CSCI 5015\n",
    "# Assignment #3\n",
    "# Feb 10, 2025\n",
    "# Exercise#2 From Assignment#3 : \n",
    "# Topic: Write a for loop that displays the following set of numbers:\n",
    "#0, 10, 20, 30, 40, 50 . . . 1000\n"
   ]
  },
  {
   "cell_type": "code",
   "execution_count": 49,
   "id": "565693c8-41dc-4953-94c0-02463285f12d",
   "metadata": {},
   "outputs": [
    {
     "name": "stdout",
     "output_type": "stream",
     "text": [
      "0 , 10 , 20 , 30 , 40 , 50 , 60 , 70 , 80 , 90 , 100 , 110 , 120 , 130 , 140 , 150 , 160 , 170 , 180 , 190 , 200 , 210 , 220 , 230 , 240 , 250 , 260 , 270 , 280 , 290 , 300 , 310 , 320 , 330 , 340 , 350 , 360 , 370 , 380 , 390 , 400 , 410 , 420 , 430 , 440 , 450 , 460 , 470 , 480 , 490 , 500 , 510 , 520 , 530 , 540 , 550 , 560 , 570 , 580 , 590 , 600 , 610 , 620 , 630 , 640 , 650 , 660 , 670 , 680 , 690 , 700 , 710 , 720 , 730 , 740 , 750 , 760 , 770 , 780 , 790 , 800 , 810 , 820 , 830 , 840 , 850 , 860 , 870 , 880 , 890 , 900 , 910 , 920 , 930 , 940 , 950 , 960 , 970 , 980 , 990 , 1000\n"
     ]
    }
   ],
   "source": [
    "# Important remark we can notice that the number are being incrasing by 10 in the above topic\n",
    "# We are adding 1 interger to 1000 because range() excludes the upper bound,Therefore adding 1 (or the step size) ensures 1000 is included\n",
    "# Here we are definig the \"for-loop statment\" which Starts at 0, ends before 1000, increments by 10\n",
    "\n",
    "# Here we defining varibale start, end, and step for our range parameter\n",
    "# This is best pratice in python if we want to make our code reusable and not hardcode it\n",
    "\n",
    "start = 0\n",
    "end = 1000\n",
    "step = 10\n",
    "\n",
    "# Here were are trying to look through our rang with aprameter start, end, step\n",
    "for my_num in range(start, end +1, step):\n",
    "    # Here we are trying to verify if the \"my-num\" is the less the the last number \n",
    "    if my_num < end:\n",
    "        # Here were trying to print the \"my-num\" with a comma if it's not the last number\n",
    "        print(my_num, end= \" , \")\n",
    "    else:\n",
    "        # Here we are trying to print normally for the last number to avoid the comma\n",
    "        print(my_num)\n"
   ]
  },
  {
   "cell_type": "code",
   "execution_count": 50,
   "id": "e6a976d8-7ed4-46b4-a36a-87258963d32d",
   "metadata": {},
   "outputs": [],
   "source": [
    "# Saka Raheem\n",
    "# CSCI 5015\n",
    "# Assignment #3\n",
    "# Feb 10, 2025\n",
    "# Exercise#3 From Assignment#3 : "
   ]
  },
  {
   "cell_type": "code",
   "execution_count": 51,
   "id": "97a7c56d-d7b9-4a2a-9f0b-e397884027a8",
   "metadata": {},
   "outputs": [],
   "source": [
    "# Important remark we can notice that numerator has 1 inetger increment started from 1.\n",
    "# While the denominator has a decrement by 1 staring from 30 integer.  \n",
    "# Here we are trying to Write a loop that calculates the total of the following series of numbers\n",
    "# (1/30)+(2/29)+ (3/28)+...... (30/1)\n",
    "\n"
   ]
  },
  {
   "cell_type": "code",
   "execution_count": 52,
   "id": "c3bd22bb-98ef-438c-8fa3-7ad5adaaa194",
   "metadata": {},
   "outputs": [
    {
     "name": "stdout",
     "output_type": "stream",
     "text": [
      "Total sum of the series: 93.84460105853213\n"
     ]
    }
   ],
   "source": [
    "\n",
    "# Here we are trying to Initialize the total sum to zero\n",
    "# This should allow us to store the acculamte sum of the seires\n",
    "# This is important because it could allow to avoid error, and allow to have accurate calulation\n",
    "total = 0 \n",
    "\n",
    "# Here we are trying to Loop from 1 to 30 including 30 integer itself\n",
    "# This shouls help us to generate integer number from 1 to 30.\n",
    "for i in range(1, 31):\n",
    "    \n",
    "    # Here we are trying Compute each term and add to total\n",
    "    # This will the calculation formular within our loop\n",
    "    # Based on our remardk above we will assume that: i starts at 1 and increases up to 30( for the numerator)\n",
    "    # Based on our remark above we will assume that: 31 - i starts at 30 (when i = 1) and decreases to 1 (when i = 30) ( for the denominator).\n",
    "    total += i / (31 - i)  \n",
    "\n",
    "# Here we are leveraging f-string to print out the total of series of number\n",
    "print(f\"Total sum of the series: {total}\")\n"
   ]
  },
  {
   "cell_type": "code",
   "execution_count": null,
   "id": "676fb447-db89-4ace-8af1-6c416144797e",
   "metadata": {},
   "outputs": [],
   "source": []
  },
  {
   "cell_type": "code",
   "execution_count": null,
   "id": "d7d18f36-41f9-4048-beb1-9ecf9638023b",
   "metadata": {},
   "outputs": [],
   "source": []
  }
 ],
 "metadata": {
  "kernelspec": {
   "display_name": "Python 3 (ipykernel)",
   "language": "python",
   "name": "python3"
  },
  "language_info": {
   "codemirror_mode": {
    "name": "ipython",
    "version": 3
   },
   "file_extension": ".py",
   "mimetype": "text/x-python",
   "name": "python",
   "nbconvert_exporter": "python",
   "pygments_lexer": "ipython3",
   "version": "3.12.7"
  }
 },
 "nbformat": 4,
 "nbformat_minor": 5
}

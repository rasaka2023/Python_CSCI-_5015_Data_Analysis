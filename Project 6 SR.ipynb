{
 "cells": [
  {
   "cell_type": "code",
   "execution_count": 5,
   "id": "2c679d92-f0d2-432c-964b-1621b47f0387",
   "metadata": {},
   "outputs": [],
   "source": [
    "# Saka Raheem\n",
    "# CSCI 5015\n",
    "# Assignment #6\n",
    "# April 02, 2025\n",
    "# Exercise#: Reviewuing, Retreiving, and Analyzing data from csv file "
   ]
  },
  {
   "cell_type": "code",
   "execution_count": 6,
   "id": "373648ba-bb32-4d5a-b133-20101b85aacb",
   "metadata": {},
   "outputs": [],
   "source": [
    "import numpy as np\n",
    "\n",
    "# Here were  defining the path to our csv file\n",
    "path = 'C:\\\\Users\\\\user\\\\CSCI 5015\\\\data\\\\unemployment_insurance-clean.csv'\n",
    "\n",
    "# Here the \"np.genfromtxt\" will allwo us to read data from a text file jypyer notebbok and turn into an array\n",
    "# In another the \"np.genfromtxt\"  will alow to generate an array in jypyer notebbok from text file \n",
    "data = np.genfromtxt(path, delimiter = \"|\")"
   ]
  },
  {
   "cell_type": "code",
   "execution_count": 7,
   "id": "5cccf314-c9a7-4d01-882d-cdf73cb65306",
   "metadata": {},
   "outputs": [
    {
     "name": "stdout",
     "output_type": "stream",
     "text": [
      "Year 2010 Mean : 455692.98 Standard Deviation : 82296.33\n",
      "Year 2011 Mean : 409110.4 Standard Deviation : 77808.0\n",
      "Year 2012 Mean : 372226.67 Standard Deviation : 66939.77\n",
      "Year 2013 Mean : 341826.79 Standard Deviation : 65486.56\n",
      "Year 2014 Mean : 306567.67 Standard Deviation : 59126.12\n",
      "Year 2015 Mean : 276956.5 Standard Deviation : 58712.14\n",
      "Year 2016 Mean : 263900.21 Standard Deviation : 55465.54\n",
      "Year 2017 Mean : 243116.25 Standard Deviation : 44621.54\n",
      "Year 2018 Mean : 220894.98 Standard Deviation : 47821.1\n",
      "Year 2019 Mean : 217557.4 Standard Deviation : 43170.7\n"
     ]
    }
   ],
   "source": [
    "# Here we are defining a \"for loop\" that goes through a range of years, starting at 2010 and ending at 2019.\n",
    "for year in range(2010, 2020): \n",
    "     \n",
    "     ''' Here we are defining the variable m for our mean'''\n",
    "     m = round((data[data[:, 2] == year, -1].mean()), 2)\n",
    "     \n",
    "     ''' Here we are defining the variable s for our standard deviation'''\n",
    "     s = round((data[data[:, 2] == year, -1].std()), 2)\n",
    "\n",
    "     ''' Here we are trying to print both the mean and standard deviation  of the year rang between 2010 and 2019 '''\n",
    "     print( \"Year\", year, \"Mean :\", m, \"Standard Deviation :\", s)"
   ]
  },
  {
   "cell_type": "code",
   "execution_count": 9,
   "id": "3905e677-72a0-4c43-b920-8ae8b589b8f4",
   "metadata": {},
   "outputs": [
    {
     "name": "stdout",
     "output_type": "stream",
     "text": [
      "My key take away from this assignment, always make sure you are under the right directory and even define it if possible\n"
     ]
    }
   ],
   "source": [
    "print(\"My key take away from this assignment, always make sure you are under the right directory and even define it if possible\")"
   ]
  },
  {
   "cell_type": "code",
   "execution_count": null,
   "id": "72f1a453-8c73-4fa5-9e37-bd3e54083a02",
   "metadata": {},
   "outputs": [],
   "source": []
  }
 ],
 "metadata": {
  "kernelspec": {
   "display_name": "Python 3 (ipykernel)",
   "language": "python",
   "name": "python3"
  },
  "language_info": {
   "codemirror_mode": {
    "name": "ipython",
    "version": 3
   },
   "file_extension": ".py",
   "mimetype": "text/x-python",
   "name": "python",
   "nbconvert_exporter": "python",
   "pygments_lexer": "ipython3",
   "version": "3.12.7"
  }
 },
 "nbformat": 4,
 "nbformat_minor": 5
}

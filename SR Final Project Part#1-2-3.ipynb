{
 "cells": [
  {
   "cell_type": "code",
   "execution_count": null,
   "id": "6040fe17-5e2d-48bc-8fd3-8d268d54919c",
   "metadata": {},
   "outputs": [],
   "source": [
    "# Saka Raheem\n",
    "# CSCI 5015\n",
    "# Final Project\n",
    "# May 06, 2025 \n",
    "#Final Exam Project Part #1"
   ]
  },
  {
   "cell_type": "code",
   "execution_count": 1,
   "id": "f78d5010-3c6e-423f-85c7-75d2325423ef",
   "metadata": {},
   "outputs": [
    {
     "name": "stdout",
     "output_type": "stream",
     "text": [
      " Volume in drive C has no label.\n",
      " Volume Serial Number is B2CE-1126\n",
      "\n",
      " Directory of C:\\Users\\user\\CSCI 5015\n",
      "\n",
      "04/30/2025  12:14 AM    <DIR>          .\n",
      "04/30/2025  12:14 AM    <DIR>          ..\n",
      "04/30/2025  12:14 AM    <DIR>          .ipynb_checkpoints\n",
      "02/10/2025  07:00 PM            11,535 Assignment 1 Saka Raheem .ipynb\n",
      "02/14/2025  08:43 PM            14,754 Assignment 2 Saka Raheem.ipynb\n",
      "02/21/2025  08:41 PM             6,825 Assignment 3 Saka Raheem.ipynb\n",
      "03/27/2025  06:29 PM            14,893 Assignment 4 Saka Raheem.ipynb\n",
      "04/03/2025  06:20 PM            11,522 Assignment 5 Saka Raheem.ipynb\n",
      "04/27/2025  12:35 PM             3,743 Assignment 6 Saka Raheem.ipynb\n",
      "04/27/2025  12:24 PM           184,179 Assignment 7 Saka Raheem.ipynb\n",
      "04/29/2025  11:22 PM           123,386 Assignment 8 Saka Raheem.ipynb\n",
      "05/06/2025  04:23 PM    <DIR>          data\n",
      "04/03/2025  04:04 PM    <DIR>          Data of Assignment 5\n",
      "03/27/2025  03:31 PM            10,211 DataStructures-Function-File.ipynb\n",
      "04/03/2025  04:36 PM    <DIR>          examples\n",
      "04/30/2025  12:12 AM               337 Final Project Saka Raheem.ipynb\n",
      "01/29/2025  04:35 AM             1,187 Hello-World-Introduction.ipynb\n",
      "02/27/2025  11:58 AM    <DIR>          PythonforDataAnalysis\n",
      "02/13/2025  12:56 AM               337 Saka Raheem Function Testing.ipynb\n",
      "04/06/2025  01:32 AM               337 Untitled1.ipynb\n",
      "              13 File(s)        383,246 bytes\n",
      "               7 Dir(s)  408,298,299,392 bytes free\n"
     ]
    }
   ],
   "source": [
    "ls"
   ]
  },
  {
   "cell_type": "code",
   "execution_count": 4,
   "id": "65ea768e-714f-4dae-900e-5ef1ec44ac1f",
   "metadata": {},
   "outputs": [
    {
     "name": "stdout",
     "output_type": "stream",
     "text": [
      "[WinError 2] The system cannot find the file specified: 'data'\n",
      "C:\\Users\\user\\CSCI 5015\\data\n"
     ]
    }
   ],
   "source": [
    "cd data"
   ]
  },
  {
   "cell_type": "code",
   "execution_count": 5,
   "id": "34815bfe-846f-4bc8-9551-f099181cc404",
   "metadata": {},
   "outputs": [
    {
     "name": "stdout",
     "output_type": "stream",
     "text": [
      " Volume in drive C has no label.\n",
      " Volume Serial Number is B2CE-1126\n",
      "\n",
      " Directory of C:\\Users\\user\\CSCI 5015\\data\n",
      "\n",
      "05/06/2025  04:32 PM    <DIR>          .\n",
      "05/06/2025  04:32 PM    <DIR>          ..\n",
      "04/18/2025  01:16 AM    <DIR>          .ipynb_checkpoints\n",
      "04/30/2025  09:08 PM           689,211 AAPL.csv\n",
      "04/29/2025  12:37 PM             5,063 cereal.csv\n",
      "04/16/2025  09:42 PM            21,577 clarksville_temp.csv\n",
      "04/05/2025  12:45 PM                58 ex1.csv\n",
      "04/30/2025  09:08 PM           319,596 GOOG.csv\n",
      "04/30/2025  09:08 PM             4,551 iris.data\n",
      "05/06/2025  04:30 PM    <DIR>          namesbystate\n",
      "04/05/2025  11:37 PM               337 Review and Analyzing csv file.ipynb\n",
      "04/05/2025  12:45 PM            59,478 unemployment_insurance.csv\n",
      "04/05/2025  12:46 PM            48,123 unemployment_insurance-clean.csv\n",
      "04/05/2025  01:56 PM            59,478 unemployment_insurance-myCopy1.csv\n",
      "              10 File(s)      1,207,472 bytes\n",
      "               4 Dir(s)  408,036,052,992 bytes free\n"
     ]
    }
   ],
   "source": [
    "ls"
   ]
  },
  {
   "cell_type": "code",
   "execution_count": 12,
   "id": "801be6bb-cee3-4f93-8d97-304b54aab683",
   "metadata": {},
   "outputs": [
    {
     "name": "stdout",
     "output_type": "stream",
     "text": [
      " Volume in drive C has no label.\n",
      " Volume Serial Number is B2CE-1126\n",
      "\n",
      " Directory of C:\\Users\\user\\CSCI 5015\\data\n",
      "\n",
      "05/06/2025  04:32 PM    <DIR>          .\n",
      "05/06/2025  04:32 PM    <DIR>          ..\n",
      "04/18/2025  01:16 AM    <DIR>          .ipynb_checkpoints\n",
      "04/30/2025  09:08 PM           689,211 AAPL.csv\n",
      "04/29/2025  12:37 PM             5,063 cereal.csv\n",
      "04/16/2025  09:42 PM            21,577 clarksville_temp.csv\n",
      "04/05/2025  12:45 PM                58 ex1.csv\n",
      "04/30/2025  09:08 PM           319,596 GOOG.csv\n",
      "04/30/2025  09:08 PM             4,551 iris.data\n",
      "05/06/2025  04:37 PM    <DIR>          namesbystate\n",
      "04/05/2025  11:37 PM               337 Review and Analyzing csv file.ipynb\n",
      "04/05/2025  12:45 PM            59,478 unemployment_insurance.csv\n",
      "04/05/2025  12:46 PM            48,123 unemployment_insurance-clean.csv\n",
      "04/05/2025  01:56 PM            59,478 unemployment_insurance-myCopy1.csv\n",
      "              10 File(s)      1,207,472 bytes\n",
      "               4 Dir(s)  408,017,014,784 bytes free\n"
     ]
    }
   ],
   "source": [
    "ls"
   ]
  },
  {
   "cell_type": "code",
   "execution_count": 15,
   "id": "05bfed33-f094-4372-8c49-58d55a4a3246",
   "metadata": {},
   "outputs": [
    {
     "name": "stdout",
     "output_type": "stream",
     "text": [
      "[WinError 2] The system cannot find the file specified: 'namesbystate'\n",
      "C:\\Users\\user\\CSCI 5015\\data\\namesbystate\n"
     ]
    }
   ],
   "source": [
    "cd namesbystate"
   ]
  },
  {
   "cell_type": "code",
   "execution_count": 16,
   "id": "c89d28e0-2c30-42ef-b4fb-87fbdf1fc3c7",
   "metadata": {},
   "outputs": [
    {
     "data": {
      "text/plain": [
       "'C:\\\\Users\\\\user\\\\CSCI 5015\\\\data\\\\namesbystate'"
      ]
     },
     "execution_count": 16,
     "metadata": {},
     "output_type": "execute_result"
    }
   ],
   "source": [
    "pwd"
   ]
  },
  {
   "cell_type": "code",
   "execution_count": 20,
   "id": "8e6af992-2fef-44a5-9455-d0ac91bb6c3f",
   "metadata": {},
   "outputs": [
    {
     "name": "stdout",
     "output_type": "stream",
     "text": [
      " Volume in drive C has no label.\n",
      " Volume Serial Number is B2CE-1126\n",
      "\n",
      " Directory of C:\\Users\\user\\CSCI 5015\\data\\namesbystate\n",
      "\n",
      "05/06/2025  04:37 PM    <DIR>          .\n",
      "05/06/2025  04:37 PM    <DIR>          ..\n",
      "05/06/2025  04:50 PM    <DIR>          .ipynb_checkpoints\n",
      "05/06/2025  04:30 PM           596,267 AK.TXT\n",
      "05/06/2025  04:30 PM         2,829,487 AL.TXT\n",
      "05/06/2025  04:30 PM         2,125,982 AR.TXT\n",
      "05/06/2025  04:30 PM         2,464,917 AZ.TXT\n",
      "05/06/2025  04:30 PM         8,164,646 CA.TXT\n",
      "05/06/2025  04:30 PM         2,274,273 CO.TXT\n",
      "05/06/2025  04:30 PM         1,728,721 CT.TXT\n",
      "05/06/2025  04:30 PM         1,165,052 DC.TXT\n",
      "05/06/2025  04:30 PM           680,651 DE.TXT\n",
      "05/06/2025  04:30 PM         4,417,181 FL.TXT\n",
      "05/06/2025  04:30 PM         3,879,556 GA.TXT\n",
      "05/06/2025  04:30 PM         1,130,468 HI.TXT\n",
      "05/06/2025  04:30 PM         1,967,443 IA.TXT\n",
      "05/06/2025  04:30 PM         1,206,302 ID.TXT\n",
      "05/06/2025  04:30 PM         4,852,719 IL.TXT\n",
      "05/06/2025  04:30 PM         2,941,484 IN.TXT\n",
      "05/06/2025  04:30 PM         1,971,584 KS.TXT\n",
      "05/06/2025  04:30 PM         2,481,945 KY.TXT\n",
      "05/06/2025  04:30 PM         3,120,430 LA.TXT\n",
      "05/06/2025  04:30 PM         2,518,367 MA.TXT\n",
      "05/06/2025  04:30 PM         2,362,245 MD.TXT\n",
      "05/06/2025  04:30 PM         1,055,345 ME.TXT\n",
      "05/06/2025  04:30 PM         3,862,838 MI.TXT\n",
      "05/06/2025  04:30 PM         2,408,018 MN.TXT\n",
      "05/06/2025  04:30 PM         2,917,837 MO.TXT\n",
      "05/06/2025  04:30 PM         2,384,202 MS.TXT\n",
      "05/06/2025  04:30 PM           945,383 MT.TXT\n",
      "05/06/2025  04:30 PM         3,680,076 NC.TXT\n",
      "05/06/2025  04:30 PM           958,933 ND.TXT\n",
      "05/06/2025  04:30 PM         1,504,350 NE.TXT\n",
      "05/06/2025  04:30 PM           822,934 NH.TXT\n",
      "05/06/2025  04:30 PM         3,245,000 NJ.TXT\n",
      "05/06/2025  04:30 PM         1,577,225 NM.TXT\n",
      "05/06/2025  04:30 PM         1,014,184 NV.TXT\n",
      "05/06/2025  04:30 PM         6,320,425 NY.TXT\n",
      "05/06/2025  04:30 PM         4,148,734 OH.TXT\n",
      "05/06/2025  04:30 PM         2,446,860 OK.TXT\n",
      "05/06/2025  04:30 PM         1,858,256 OR.TXT\n",
      "05/06/2025  04:30 PM         4,215,849 PA.TXT\n",
      "05/06/2025  04:30 PM           846,994 RI.TXT\n",
      "05/06/2025  04:30 PM         2,490,184 SC.TXT\n",
      "05/06/2025  04:30 PM           981,264 SD.TXT\n",
      "05/06/2025  04:30 PM           130,259 StateReadMe.pdf\n",
      "05/06/2025  04:30 PM         2,974,113 TN.TXT\n",
      "05/06/2025  04:30 PM         7,524,721 TX.TXT\n",
      "05/06/2025  04:30 PM         1,874,184 UT.TXT\n",
      "05/06/2025  04:30 PM         3,128,223 VA.TXT\n",
      "05/06/2025  04:30 PM           598,644 VT.TXT\n",
      "05/06/2025  04:30 PM         2,629,755 WA.TXT\n",
      "05/06/2025  04:30 PM         2,458,476 WI.TXT\n",
      "05/06/2025  04:30 PM         1,605,289 WV.TXT\n",
      "05/06/2025  04:30 PM           575,882 WY.TXT\n",
      "              52 File(s)    128,064,157 bytes\n",
      "               3 Dir(s)  408,016,220,160 bytes free\n"
     ]
    }
   ],
   "source": [
    "ls\n"
   ]
  },
  {
   "cell_type": "code",
   "execution_count": null,
   "id": "005668ce-fe68-4b41-9a7e-0e3a543acdcf",
   "metadata": {},
   "outputs": [],
   "source": []
  },
  {
   "cell_type": "code",
   "execution_count": 21,
   "id": "824d7c03-bb42-4aa8-9406-e8d436e299ef",
   "metadata": {},
   "outputs": [],
   "source": [
    "\n",
    "# Here we are trying to read/ print  the list of carbohydrates and only the carbohydrates\n",
    "import pandas as pd\n",
    "import numpy as np\n",
    "import matplotlib.pyplot as plt\n",
    "\n",
    "%matplotlib inline\n",
    "\n",
    "# Here were  defining the path to our csv file that will be leverage through the prcess\n",
    "path1 = 'C:\\\\Users\\\\user\\\\CSCI 5015\\\\data\\\\namesbystate\\\\TN.TXT'\n",
    "path2 = 'C:\\\\Users\\\\user\\\\CSCI 5015\\\\data\\\\namesbystate\\\\NC.TXT'\n",
    "path3 = 'C:\\\\Users\\\\user\\\\CSCI 5015\\\\data\\\\namesbystate\\\\VA.TXT'\n",
    "path4 = 'C:\\\\Users\\\\user\\\\CSCI 5015\\\\data\\\\namesbystate\\\\KY.TXT'\n"
   ]
  },
  {
   "cell_type": "code",
   "execution_count": 26,
   "id": "45e56b6a-6876-44be-8b9e-1a9275a79c88",
   "metadata": {},
   "outputs": [],
   "source": [
    "# Here we are trying to Open 4 different states. \n",
    "#Important remark: The arbitrary requirement here is that three of the states much touch a fourth state. This way we can study a geographic area. "
   ]
  },
  {
   "cell_type": "code",
   "execution_count": 27,
   "id": "faf1e9b1-a9e9-4e73-897e-6df44912932b",
   "metadata": {},
   "outputs": [],
   "source": [
    "\n",
    "tn = pd.read_csv(path1, names=[\"state\",\"sex\",\"year\",\"name\",\"count\"]) "
   ]
  },
  {
   "cell_type": "code",
   "execution_count": 28,
   "id": "75c8ccbd-6d90-460a-a4d6-c8105338cf1a",
   "metadata": {},
   "outputs": [],
   "source": [
    "va = pd.read_csv(path2, names=[\"state\",\"sex\",\"year\",\"name\",\"count\"]) "
   ]
  },
  {
   "cell_type": "code",
   "execution_count": 29,
   "id": "82cd7f91-9667-4c3d-9b2e-5c1f478f2073",
   "metadata": {},
   "outputs": [],
   "source": [
    "nc = pd.read_csv(path3, names=[\"state\",\"sex\",\"year\",\"name\",\"count\"]) "
   ]
  },
  {
   "cell_type": "code",
   "execution_count": 30,
   "id": "b62d1044-e3be-4710-9b5d-f25be3aebf86",
   "metadata": {},
   "outputs": [],
   "source": [
    "ky = pd.read_csv(path4, names=[\"state\",\"sex\",\"year\",\"name\",\"count\"]) "
   ]
  },
  {
   "cell_type": "code",
   "execution_count": 38,
   "id": "e27b3582-8d09-4c38-aa6e-876fac305ba0",
   "metadata": {},
   "outputs": [
    {
     "data": {
      "text/html": [
       "<div>\n",
       "<style scoped>\n",
       "    .dataframe tbody tr th:only-of-type {\n",
       "        vertical-align: middle;\n",
       "    }\n",
       "\n",
       "    .dataframe tbody tr th {\n",
       "        vertical-align: top;\n",
       "    }\n",
       "\n",
       "    .dataframe thead th {\n",
       "        text-align: right;\n",
       "    }\n",
       "</style>\n",
       "<table border=\"1\" class=\"dataframe\">\n",
       "  <thead>\n",
       "    <tr style=\"text-align: right;\">\n",
       "      <th></th>\n",
       "      <th>state</th>\n",
       "      <th>sex</th>\n",
       "      <th>year</th>\n",
       "      <th>name</th>\n",
       "      <th>count</th>\n",
       "    </tr>\n",
       "  </thead>\n",
       "  <tbody>\n",
       "    <tr>\n",
       "      <th>0</th>\n",
       "      <td>TN</td>\n",
       "      <td>F</td>\n",
       "      <td>1910</td>\n",
       "      <td>Mary</td>\n",
       "      <td>735</td>\n",
       "    </tr>\n",
       "    <tr>\n",
       "      <th>1</th>\n",
       "      <td>TN</td>\n",
       "      <td>F</td>\n",
       "      <td>1910</td>\n",
       "      <td>Ruby</td>\n",
       "      <td>168</td>\n",
       "    </tr>\n",
       "    <tr>\n",
       "      <th>2</th>\n",
       "      <td>TN</td>\n",
       "      <td>F</td>\n",
       "      <td>1910</td>\n",
       "      <td>Annie</td>\n",
       "      <td>163</td>\n",
       "    </tr>\n",
       "    <tr>\n",
       "      <th>3</th>\n",
       "      <td>TN</td>\n",
       "      <td>F</td>\n",
       "      <td>1910</td>\n",
       "      <td>Ruth</td>\n",
       "      <td>163</td>\n",
       "    </tr>\n",
       "    <tr>\n",
       "      <th>4</th>\n",
       "      <td>TN</td>\n",
       "      <td>F</td>\n",
       "      <td>1910</td>\n",
       "      <td>Elizabeth</td>\n",
       "      <td>154</td>\n",
       "    </tr>\n",
       "    <tr>\n",
       "      <th>...</th>\n",
       "      <td>...</td>\n",
       "      <td>...</td>\n",
       "      <td>...</td>\n",
       "      <td>...</td>\n",
       "      <td>...</td>\n",
       "    </tr>\n",
       "    <tr>\n",
       "      <th>121009</th>\n",
       "      <td>KY</td>\n",
       "      <td>M</td>\n",
       "      <td>2020</td>\n",
       "      <td>Yousef</td>\n",
       "      <td>5</td>\n",
       "    </tr>\n",
       "    <tr>\n",
       "      <th>121010</th>\n",
       "      <td>KY</td>\n",
       "      <td>M</td>\n",
       "      <td>2020</td>\n",
       "      <td>Zavier</td>\n",
       "      <td>5</td>\n",
       "    </tr>\n",
       "    <tr>\n",
       "      <th>121011</th>\n",
       "      <td>KY</td>\n",
       "      <td>M</td>\n",
       "      <td>2020</td>\n",
       "      <td>Zeke</td>\n",
       "      <td>5</td>\n",
       "    </tr>\n",
       "    <tr>\n",
       "      <th>121012</th>\n",
       "      <td>KY</td>\n",
       "      <td>M</td>\n",
       "      <td>2020</td>\n",
       "      <td>Zyair</td>\n",
       "      <td>5</td>\n",
       "    </tr>\n",
       "    <tr>\n",
       "      <th>121013</th>\n",
       "      <td>KY</td>\n",
       "      <td>M</td>\n",
       "      <td>2020</td>\n",
       "      <td>Zymir</td>\n",
       "      <td>5</td>\n",
       "    </tr>\n",
       "  </tbody>\n",
       "</table>\n",
       "<p>596068 rows × 5 columns</p>\n",
       "</div>"
      ],
      "text/plain": [
       "       state sex  year       name  count\n",
       "0         TN   F  1910       Mary    735\n",
       "1         TN   F  1910       Ruby    168\n",
       "2         TN   F  1910      Annie    163\n",
       "3         TN   F  1910       Ruth    163\n",
       "4         TN   F  1910  Elizabeth    154\n",
       "...      ...  ..   ...        ...    ...\n",
       "121009    KY   M  2020     Yousef      5\n",
       "121010    KY   M  2020     Zavier      5\n",
       "121011    KY   M  2020       Zeke      5\n",
       "121012    KY   M  2020      Zyair      5\n",
       "121013    KY   M  2020      Zymir      5\n",
       "\n",
       "[596068 rows x 5 columns]"
      ]
     },
     "execution_count": 38,
     "metadata": {},
     "output_type": "execute_result"
    }
   ],
   "source": [
    "# Here we are trying to Use the \"pd.concat\" method to concatenate each of your four states. \n",
    "MyFourStates = pd.concat([tn, va, nc, ky])\n",
    "MyFourStates"
   ]
  },
  {
   "cell_type": "code",
   "execution_count": 39,
   "id": "0bb4e133-e872-405e-b479-ab44b921b3d5",
   "metadata": {},
   "outputs": [
    {
     "data": {
      "text/html": [
       "<div>\n",
       "<style scoped>\n",
       "    .dataframe tbody tr th:only-of-type {\n",
       "        vertical-align: middle;\n",
       "    }\n",
       "\n",
       "    .dataframe tbody tr th {\n",
       "        vertical-align: top;\n",
       "    }\n",
       "\n",
       "    .dataframe thead th {\n",
       "        text-align: right;\n",
       "    }\n",
       "</style>\n",
       "<table border=\"1\" class=\"dataframe\">\n",
       "  <thead>\n",
       "    <tr style=\"text-align: right;\">\n",
       "      <th></th>\n",
       "      <th>state</th>\n",
       "      <th>sex</th>\n",
       "      <th>year</th>\n",
       "      <th>name</th>\n",
       "      <th>count</th>\n",
       "    </tr>\n",
       "  </thead>\n",
       "  <tbody>\n",
       "    <tr>\n",
       "      <th>0</th>\n",
       "      <td>TN</td>\n",
       "      <td>F</td>\n",
       "      <td>1910</td>\n",
       "      <td>Mary</td>\n",
       "      <td>735</td>\n",
       "    </tr>\n",
       "    <tr>\n",
       "      <th>1</th>\n",
       "      <td>TN</td>\n",
       "      <td>F</td>\n",
       "      <td>1910</td>\n",
       "      <td>Ruby</td>\n",
       "      <td>168</td>\n",
       "    </tr>\n",
       "    <tr>\n",
       "      <th>2</th>\n",
       "      <td>TN</td>\n",
       "      <td>F</td>\n",
       "      <td>1910</td>\n",
       "      <td>Annie</td>\n",
       "      <td>163</td>\n",
       "    </tr>\n",
       "    <tr>\n",
       "      <th>3</th>\n",
       "      <td>TN</td>\n",
       "      <td>F</td>\n",
       "      <td>1910</td>\n",
       "      <td>Ruth</td>\n",
       "      <td>163</td>\n",
       "    </tr>\n",
       "    <tr>\n",
       "      <th>4</th>\n",
       "      <td>TN</td>\n",
       "      <td>F</td>\n",
       "      <td>1910</td>\n",
       "      <td>Elizabeth</td>\n",
       "      <td>154</td>\n",
       "    </tr>\n",
       "    <tr>\n",
       "      <th>...</th>\n",
       "      <td>...</td>\n",
       "      <td>...</td>\n",
       "      <td>...</td>\n",
       "      <td>...</td>\n",
       "      <td>...</td>\n",
       "    </tr>\n",
       "    <tr>\n",
       "      <th>121009</th>\n",
       "      <td>KY</td>\n",
       "      <td>M</td>\n",
       "      <td>2020</td>\n",
       "      <td>Yousef</td>\n",
       "      <td>5</td>\n",
       "    </tr>\n",
       "    <tr>\n",
       "      <th>121010</th>\n",
       "      <td>KY</td>\n",
       "      <td>M</td>\n",
       "      <td>2020</td>\n",
       "      <td>Zavier</td>\n",
       "      <td>5</td>\n",
       "    </tr>\n",
       "    <tr>\n",
       "      <th>121011</th>\n",
       "      <td>KY</td>\n",
       "      <td>M</td>\n",
       "      <td>2020</td>\n",
       "      <td>Zeke</td>\n",
       "      <td>5</td>\n",
       "    </tr>\n",
       "    <tr>\n",
       "      <th>121012</th>\n",
       "      <td>KY</td>\n",
       "      <td>M</td>\n",
       "      <td>2020</td>\n",
       "      <td>Zyair</td>\n",
       "      <td>5</td>\n",
       "    </tr>\n",
       "    <tr>\n",
       "      <th>121013</th>\n",
       "      <td>KY</td>\n",
       "      <td>M</td>\n",
       "      <td>2020</td>\n",
       "      <td>Zymir</td>\n",
       "      <td>5</td>\n",
       "    </tr>\n",
       "  </tbody>\n",
       "</table>\n",
       "<p>596068 rows × 5 columns</p>\n",
       "</div>"
      ],
      "text/plain": [
       "       state sex  year       name  count\n",
       "0         TN   F  1910       Mary    735\n",
       "1         TN   F  1910       Ruby    168\n",
       "2         TN   F  1910      Annie    163\n",
       "3         TN   F  1910       Ruth    163\n",
       "4         TN   F  1910  Elizabeth    154\n",
       "...      ...  ..   ...        ...    ...\n",
       "121009    KY   M  2020     Yousef      5\n",
       "121010    KY   M  2020     Zavier      5\n",
       "121011    KY   M  2020       Zeke      5\n",
       "121012    KY   M  2020      Zyair      5\n",
       "121013    KY   M  2020      Zymir      5\n",
       "\n",
       "[596068 rows x 5 columns]"
      ]
     },
     "execution_count": 39,
     "metadata": {},
     "output_type": "execute_result"
    }
   ],
   "source": [
    "MyFourStates = pd.concat([tn, va, nc, ky], axis = 0)\n",
    "MyFourStates"
   ]
  },
  {
   "cell_type": "code",
   "execution_count": 42,
   "id": "9b3c1078-92b3-4a44-99c4-993a60f03cf1",
   "metadata": {},
   "outputs": [
    {
     "data": {
      "text/html": [
       "<div>\n",
       "<style scoped>\n",
       "    .dataframe tbody tr th:only-of-type {\n",
       "        vertical-align: middle;\n",
       "    }\n",
       "\n",
       "    .dataframe tbody tr th {\n",
       "        vertical-align: top;\n",
       "    }\n",
       "\n",
       "    .dataframe thead th {\n",
       "        text-align: right;\n",
       "    }\n",
       "</style>\n",
       "<table border=\"1\" class=\"dataframe\">\n",
       "  <thead>\n",
       "    <tr style=\"text-align: right;\">\n",
       "      <th></th>\n",
       "      <th>count</th>\n",
       "    </tr>\n",
       "    <tr>\n",
       "      <th>sex</th>\n",
       "      <th></th>\n",
       "    </tr>\n",
       "  </thead>\n",
       "  <tbody>\n",
       "    <tr>\n",
       "      <th>F</th>\n",
       "      <td>13961108</td>\n",
       "    </tr>\n",
       "    <tr>\n",
       "      <th>M</th>\n",
       "      <td>14792795</td>\n",
       "    </tr>\n",
       "  </tbody>\n",
       "</table>\n",
       "</div>"
      ],
      "text/plain": [
       "        count\n",
       "sex          \n",
       "F    13961108\n",
       "M    14792795"
      ]
     },
     "execution_count": 42,
     "metadata": {},
     "output_type": "execute_result"
    }
   ],
   "source": [
    "# Here are trying to determine How many females and Male were born in your four selected states?\n",
    "#Important remark:  Use a pivot table to create your answer and select the appropriate \"aggfunc\" method.\n",
    "MyFourStates.pivot_table(index=\"sex\", values=\"count\", aggfunc= \"sum\")\n",
    "\n"
   ]
  },
  {
   "cell_type": "code",
   "execution_count": 43,
   "id": "cb294c12-f0bd-4424-bbb1-fbb2a8cd4f25",
   "metadata": {},
   "outputs": [
    {
     "data": {
      "text/html": [
       "<div>\n",
       "<style scoped>\n",
       "    .dataframe tbody tr th:only-of-type {\n",
       "        vertical-align: middle;\n",
       "    }\n",
       "\n",
       "    .dataframe tbody tr th {\n",
       "        vertical-align: top;\n",
       "    }\n",
       "\n",
       "    .dataframe thead th {\n",
       "        text-align: right;\n",
       "    }\n",
       "</style>\n",
       "<table border=\"1\" class=\"dataframe\">\n",
       "  <thead>\n",
       "    <tr style=\"text-align: right;\">\n",
       "      <th></th>\n",
       "      <th>count</th>\n",
       "    </tr>\n",
       "    <tr>\n",
       "      <th>state</th>\n",
       "      <th></th>\n",
       "    </tr>\n",
       "  </thead>\n",
       "  <tbody>\n",
       "    <tr>\n",
       "      <th>KY</th>\n",
       "      <td>5627881</td>\n",
       "    </tr>\n",
       "    <tr>\n",
       "      <th>NC</th>\n",
       "      <td>9112090</td>\n",
       "    </tr>\n",
       "    <tr>\n",
       "      <th>TN</th>\n",
       "      <td>6781040</td>\n",
       "    </tr>\n",
       "    <tr>\n",
       "      <th>VA</th>\n",
       "      <td>7232892</td>\n",
       "    </tr>\n",
       "  </tbody>\n",
       "</table>\n",
       "</div>"
      ],
      "text/plain": [
       "         count\n",
       "state         \n",
       "KY     5627881\n",
       "NC     9112090\n",
       "TN     6781040\n",
       "VA     7232892"
      ]
     },
     "execution_count": 43,
     "metadata": {},
     "output_type": "execute_result"
    }
   ],
   "source": [
    "# Here we are trying to determine How many people were born in each state? Again, use a pivot table\n",
    "MyFourStates.pivot_table(index=\"state\", values=\"count\", aggfunc= \"sum\")\n"
   ]
  },
  {
   "cell_type": "code",
   "execution_count": null,
   "id": "d2fe014f-82fb-45d9-9cf3-eb2c9e129895",
   "metadata": {},
   "outputs": [],
   "source": []
  },
  {
   "cell_type": "code",
   "execution_count": 47,
   "id": "d0ef7480-ec48-43f2-bc06-958a6623ebbf",
   "metadata": {},
   "outputs": [
    {
     "data": {
      "text/html": [
       "<div>\n",
       "<style scoped>\n",
       "    .dataframe tbody tr th:only-of-type {\n",
       "        vertical-align: middle;\n",
       "    }\n",
       "\n",
       "    .dataframe tbody tr th {\n",
       "        vertical-align: top;\n",
       "    }\n",
       "\n",
       "    .dataframe thead th {\n",
       "        text-align: right;\n",
       "    }\n",
       "</style>\n",
       "<table border=\"1\" class=\"dataframe\">\n",
       "  <thead>\n",
       "    <tr style=\"text-align: right;\">\n",
       "      <th></th>\n",
       "      <th>count</th>\n",
       "    </tr>\n",
       "    <tr>\n",
       "      <th>name</th>\n",
       "      <th></th>\n",
       "    </tr>\n",
       "  </thead>\n",
       "  <tbody>\n",
       "    <tr>\n",
       "      <th>Aaden</th>\n",
       "      <td>370</td>\n",
       "    </tr>\n",
       "    <tr>\n",
       "      <th>Aadhya</th>\n",
       "      <td>185</td>\n",
       "    </tr>\n",
       "    <tr>\n",
       "      <th>Aadya</th>\n",
       "      <td>85</td>\n",
       "    </tr>\n",
       "    <tr>\n",
       "      <th>Aahana</th>\n",
       "      <td>12</td>\n",
       "    </tr>\n",
       "    <tr>\n",
       "      <th>Aahil</th>\n",
       "      <td>5</td>\n",
       "    </tr>\n",
       "    <tr>\n",
       "      <th>...</th>\n",
       "      <td>...</td>\n",
       "    </tr>\n",
       "    <tr>\n",
       "      <th>Zymir</th>\n",
       "      <td>336</td>\n",
       "    </tr>\n",
       "    <tr>\n",
       "      <th>Zymire</th>\n",
       "      <td>10</td>\n",
       "    </tr>\n",
       "    <tr>\n",
       "      <th>Zyon</th>\n",
       "      <td>375</td>\n",
       "    </tr>\n",
       "    <tr>\n",
       "      <th>Zyonna</th>\n",
       "      <td>46</td>\n",
       "    </tr>\n",
       "    <tr>\n",
       "      <th>Zyquan</th>\n",
       "      <td>31</td>\n",
       "    </tr>\n",
       "  </tbody>\n",
       "</table>\n",
       "<p>11360 rows × 1 columns</p>\n",
       "</div>"
      ],
      "text/plain": [
       "        count\n",
       "name         \n",
       "Aaden     370\n",
       "Aadhya    185\n",
       "Aadya      85\n",
       "Aahana     12\n",
       "Aahil       5\n",
       "...       ...\n",
       "Zymir     336\n",
       "Zymire     10\n",
       "Zyon      375\n",
       "Zyonna     46\n",
       "Zyquan     31\n",
       "\n",
       "[11360 rows x 1 columns]"
      ]
     },
     "execution_count": 47,
     "metadata": {},
     "output_type": "execute_result"
    }
   ],
   "source": [
    "# Here we are trying to What are the top 5 most popular names for any sex? Again, use a pivot table.\n",
    "MynamesCount = MyFourStates.pivot_table(index=\"name\", values= \"count\", aggfunc= \"sum\")\n",
    "MynamesCount"
   ]
  },
  {
   "cell_type": "code",
   "execution_count": null,
   "id": "6cdbda29-377e-4e56-9aff-678e42ff516c",
   "metadata": {},
   "outputs": [],
   "source": []
  },
  {
   "cell_type": "code",
   "execution_count": 50,
   "id": "22a8626b-8a00-4fc1-9218-71921bb2bd75",
   "metadata": {},
   "outputs": [
    {
     "data": {
      "text/html": [
       "<div>\n",
       "<style scoped>\n",
       "    .dataframe tbody tr th:only-of-type {\n",
       "        vertical-align: middle;\n",
       "    }\n",
       "\n",
       "    .dataframe tbody tr th {\n",
       "        vertical-align: top;\n",
       "    }\n",
       "\n",
       "    .dataframe thead th {\n",
       "        text-align: right;\n",
       "    }\n",
       "</style>\n",
       "<table border=\"1\" class=\"dataframe\">\n",
       "  <thead>\n",
       "    <tr style=\"text-align: right;\">\n",
       "      <th></th>\n",
       "      <th>count</th>\n",
       "    </tr>\n",
       "    <tr>\n",
       "      <th>name</th>\n",
       "      <th></th>\n",
       "    </tr>\n",
       "  </thead>\n",
       "  <tbody>\n",
       "    <tr>\n",
       "      <th>Mary</th>\n",
       "      <td>439651</td>\n",
       "    </tr>\n",
       "    <tr>\n",
       "      <th>Elizabeth</th>\n",
       "      <td>156938</td>\n",
       "    </tr>\n",
       "    <tr>\n",
       "      <th>Linda</th>\n",
       "      <td>143552</td>\n",
       "    </tr>\n",
       "    <tr>\n",
       "      <th>Betty</th>\n",
       "      <td>141259</td>\n",
       "    </tr>\n",
       "    <tr>\n",
       "      <th>Barbara</th>\n",
       "      <td>127044</td>\n",
       "    </tr>\n",
       "  </tbody>\n",
       "</table>\n",
       "</div>"
      ],
      "text/plain": [
       "            count\n",
       "name             \n",
       "Mary       439651\n",
       "Elizabeth  156938\n",
       "Linda      143552\n",
       "Betty      141259\n",
       "Barbara    127044"
      ]
     },
     "execution_count": 50,
     "metadata": {},
     "output_type": "execute_result"
    }
   ],
   "source": [
    "# Here we are trying to determine What are the top 5 most popular male names?\n",
    "Myfemale_namesCount = MyFourStates[MyFourStates[\"sex\"] == \"F\"]\n",
    "Myfemale_pivot = Myfemale_namesCount.pivot_table(index=\"name\", values=\"count\", aggfunc=\"sum\")\n",
    "Mytop5_female_names = Myfemale_pivot.sort_values(\"count\", ascending=False).head(5)\n",
    "Mytop5_female_names"
   ]
  },
  {
   "cell_type": "code",
   "execution_count": null,
   "id": "b061d25d-d4c8-44b8-b71a-bcf97f3c106b",
   "metadata": {},
   "outputs": [],
   "source": []
  },
  {
   "cell_type": "code",
   "execution_count": 52,
   "id": "69f9e368-093f-40d2-b12e-dfd81b581b46",
   "metadata": {},
   "outputs": [
    {
     "data": {
      "text/html": [
       "<div>\n",
       "<style scoped>\n",
       "    .dataframe tbody tr th:only-of-type {\n",
       "        vertical-align: middle;\n",
       "    }\n",
       "\n",
       "    .dataframe tbody tr th {\n",
       "        vertical-align: top;\n",
       "    }\n",
       "\n",
       "    .dataframe thead th {\n",
       "        text-align: right;\n",
       "    }\n",
       "</style>\n",
       "<table border=\"1\" class=\"dataframe\">\n",
       "  <thead>\n",
       "    <tr style=\"text-align: right;\">\n",
       "      <th></th>\n",
       "      <th>count</th>\n",
       "    </tr>\n",
       "    <tr>\n",
       "      <th>name</th>\n",
       "      <th></th>\n",
       "    </tr>\n",
       "  </thead>\n",
       "  <tbody>\n",
       "    <tr>\n",
       "      <th>James</th>\n",
       "      <td>678028</td>\n",
       "    </tr>\n",
       "    <tr>\n",
       "      <th>William</th>\n",
       "      <td>509960</td>\n",
       "    </tr>\n",
       "    <tr>\n",
       "      <th>John</th>\n",
       "      <td>413191</td>\n",
       "    </tr>\n",
       "    <tr>\n",
       "      <th>Robert</th>\n",
       "      <td>394720</td>\n",
       "    </tr>\n",
       "    <tr>\n",
       "      <th>Michael</th>\n",
       "      <td>321506</td>\n",
       "    </tr>\n",
       "  </tbody>\n",
       "</table>\n",
       "</div>"
      ],
      "text/plain": [
       "          count\n",
       "name           \n",
       "James    678028\n",
       "William  509960\n",
       "John     413191\n",
       "Robert   394720\n",
       "Michael  321506"
      ]
     },
     "execution_count": 52,
     "metadata": {},
     "output_type": "execute_result"
    }
   ],
   "source": [
    "# Here we are trying to determine What are the top 5 most popular male names?\n",
    "Mymale_namesCount = MyFourStates[MyFourStates[\"sex\"] == \"M\"]\n",
    "Mymale_pivot = Mymale_namesCount.pivot_table(index=\"name\", values=\"count\", aggfunc=\"sum\")\n",
    "Mytop5_male_names = Mymale_pivot.sort_values(\"count\", ascending=False).head(5)\n",
    "Mytop5_male_names\n"
   ]
  },
  {
   "cell_type": "code",
   "execution_count": null,
   "id": "184aff67-0ce1-40bb-9bc1-1cbe8d74fa08",
   "metadata": {},
   "outputs": [],
   "source": []
  },
  {
   "cell_type": "code",
   "execution_count": null,
   "id": "ac9dba04-0a7c-4775-af61-89f3cb98ae45",
   "metadata": {},
   "outputs": [],
   "source": []
  },
  {
   "cell_type": "code",
   "execution_count": null,
   "id": "4a1c7137-52ad-4fe8-b904-875cad814147",
   "metadata": {},
   "outputs": [],
   "source": []
  },
  {
   "cell_type": "code",
   "execution_count": 60,
   "id": "e54511b4-f5e8-4a0c-aa9d-3b22039ac6d6",
   "metadata": {},
   "outputs": [],
   "source": [
    "# Saka Raheem\n",
    "# CSCI 5015\n",
    "# Final Project \n",
    "# May 06, 2025 \n",
    "#Final Exam Project: Part #2"
   ]
  },
  {
   "cell_type": "code",
   "execution_count": 61,
   "id": "d9ddb34e-60c2-4b11-949b-fa8db0035c00",
   "metadata": {},
   "outputs": [
    {
     "data": {
      "text/plain": [
       "'C:\\\\Users\\\\user\\\\CSCI 5015\\\\data'"
      ]
     },
     "execution_count": 61,
     "metadata": {},
     "output_type": "execute_result"
    }
   ],
   "source": [
    "pwd"
   ]
  },
  {
   "cell_type": "code",
   "execution_count": 62,
   "id": "1dfcfbcc-82f6-46ad-8561-7a84594c95fd",
   "metadata": {},
   "outputs": [
    {
     "name": "stdout",
     "output_type": "stream",
     "text": [
      "C:\\Users\\user\\CSCI 5015\n"
     ]
    }
   ],
   "source": [
    "cd .."
   ]
  },
  {
   "cell_type": "code",
   "execution_count": 63,
   "id": "df879883-1755-4325-b4ec-0c27f7212f30",
   "metadata": {},
   "outputs": [
    {
     "name": "stdout",
     "output_type": "stream",
     "text": [
      " Volume in drive C has no label.\n",
      " Volume Serial Number is B2CE-1126\n",
      "\n",
      " Directory of C:\\Users\\user\\CSCI 5015\n",
      "\n",
      "05/06/2025  05:59 PM    <DIR>          .\n",
      "05/06/2025  05:59 PM    <DIR>          ..\n",
      "05/06/2025  05:52 PM    <DIR>          .ipynb_checkpoints\n",
      "02/10/2025  07:00 PM            11,535 Assignment 1 Saka Raheem .ipynb\n",
      "02/14/2025  08:43 PM            14,754 Assignment 2 Saka Raheem.ipynb\n",
      "02/21/2025  08:41 PM             6,825 Assignment 3 Saka Raheem.ipynb\n",
      "03/27/2025  06:29 PM            14,893 Assignment 4 Saka Raheem.ipynb\n",
      "04/03/2025  06:20 PM            11,522 Assignment 5 Saka Raheem.ipynb\n",
      "04/27/2025  12:35 PM             3,743 Assignment 6 Saka Raheem.ipynb\n",
      "04/27/2025  12:24 PM           184,179 Assignment 7 Saka Raheem.ipynb\n",
      "04/29/2025  11:22 PM           123,386 Assignment 8 Saka Raheem.ipynb\n",
      "05/06/2025  04:32 PM    <DIR>          data\n",
      "04/03/2025  04:04 PM    <DIR>          Data of Assignment 5\n",
      "03/27/2025  03:31 PM            10,211 DataStructures-Function-File.ipynb\n",
      "04/03/2025  04:36 PM    <DIR>          examples\n",
      "01/29/2025  04:35 AM             1,187 Hello-World-Introduction.ipynb\n",
      "02/27/2025  11:58 AM    <DIR>          PythonforDataAnalysis\n",
      "05/06/2025  05:59 PM            35,205 Saka Raheem Final Project Part#1.ipynb\n",
      "05/06/2025  05:51 PM               337 Saka Raheem Final Project Part#3.ipynb\n",
      "05/06/2025  05:50 PM               337 Saka Raheem Final Project#2.ipynb\n",
      "02/13/2025  12:56 AM               337 Saka Raheem Function Testing.ipynb\n",
      "04/06/2025  01:32 AM               337 Untitled1.ipynb\n",
      "              15 File(s)        418,788 bytes\n",
      "               7 Dir(s)  408,002,535,424 bytes free\n"
     ]
    }
   ],
   "source": [
    "ls"
   ]
  },
  {
   "cell_type": "code",
   "execution_count": 64,
   "id": "fbe6eaa0-ff73-48e2-9d1c-62d8b5db0327",
   "metadata": {},
   "outputs": [
    {
     "data": {
      "text/plain": [
       "'C:\\\\Users\\\\user\\\\CSCI 5015'"
      ]
     },
     "execution_count": 64,
     "metadata": {},
     "output_type": "execute_result"
    }
   ],
   "source": [
    "pwd"
   ]
  },
  {
   "cell_type": "code",
   "execution_count": 99,
   "id": "bd409435-db1e-4bcc-bf78-b500f644992c",
   "metadata": {},
   "outputs": [],
   "source": [
    "# Here we are trying to read/ print  the list of carbohydrates and only the carbohydrates\n",
    "import pandas as pd\n",
    "import numpy as np\n",
    "import matplotlib.pyplot as plt\n",
    "\n",
    "%matplotlib inline"
   ]
  },
  {
   "cell_type": "code",
   "execution_count": 100,
   "id": "bcd94eb8-4676-4d4b-bbd1-7739dc83bb79",
   "metadata": {},
   "outputs": [],
   "source": [
    "# Here were  defining the path to our csv file that will be leverage through the prcess\n",
    "path1 = 'C:\\\\Users\\\\user\\\\CSCI 5015\\\\data\\\\GOOG.csv'\n",
    "path2 = 'C:\\\\Users\\\\user\\\\CSCI 5015\\\\data\\\\AAPL.csv'\n"
   ]
  },
  {
   "cell_type": "code",
   "execution_count": 101,
   "id": "e354f03c-3524-4369-98cc-3867f51c5f27",
   "metadata": {},
   "outputs": [],
   "source": [
    "goog = pd.read_csv(path1)"
   ]
  },
  {
   "cell_type": "code",
   "execution_count": 102,
   "id": "e65544b2-d52a-4dfe-afbd-4895c49a2224",
   "metadata": {},
   "outputs": [],
   "source": [
    "aapl = pd.read_csv(path2)"
   ]
  },
  {
   "cell_type": "code",
   "execution_count": 103,
   "id": "d4e0716f-6979-4721-9d21-0f8d1e079adb",
   "metadata": {},
   "outputs": [
    {
     "data": {
      "text/html": [
       "<div>\n",
       "<style scoped>\n",
       "    .dataframe tbody tr th:only-of-type {\n",
       "        vertical-align: middle;\n",
       "    }\n",
       "\n",
       "    .dataframe tbody tr th {\n",
       "        vertical-align: top;\n",
       "    }\n",
       "\n",
       "    .dataframe thead th {\n",
       "        text-align: right;\n",
       "    }\n",
       "</style>\n",
       "<table border=\"1\" class=\"dataframe\">\n",
       "  <thead>\n",
       "    <tr style=\"text-align: right;\">\n",
       "      <th></th>\n",
       "      <th>Date</th>\n",
       "      <th>Open</th>\n",
       "      <th>High</th>\n",
       "      <th>Low</th>\n",
       "      <th>Close</th>\n",
       "      <th>Adj Close</th>\n",
       "      <th>Volume</th>\n",
       "    </tr>\n",
       "  </thead>\n",
       "  <tbody>\n",
       "    <tr>\n",
       "      <th>0</th>\n",
       "      <td>1980-12-12</td>\n",
       "      <td>0.128348</td>\n",
       "      <td>0.128906</td>\n",
       "      <td>0.128348</td>\n",
       "      <td>0.128348</td>\n",
       "      <td>0.100751</td>\n",
       "      <td>469033600</td>\n",
       "    </tr>\n",
       "    <tr>\n",
       "      <th>1</th>\n",
       "      <td>1980-12-15</td>\n",
       "      <td>0.122210</td>\n",
       "      <td>0.122210</td>\n",
       "      <td>0.121652</td>\n",
       "      <td>0.121652</td>\n",
       "      <td>0.095495</td>\n",
       "      <td>175884800</td>\n",
       "    </tr>\n",
       "    <tr>\n",
       "      <th>2</th>\n",
       "      <td>1980-12-16</td>\n",
       "      <td>0.113281</td>\n",
       "      <td>0.113281</td>\n",
       "      <td>0.112723</td>\n",
       "      <td>0.112723</td>\n",
       "      <td>0.088485</td>\n",
       "      <td>105728000</td>\n",
       "    </tr>\n",
       "    <tr>\n",
       "      <th>3</th>\n",
       "      <td>1980-12-17</td>\n",
       "      <td>0.115513</td>\n",
       "      <td>0.116071</td>\n",
       "      <td>0.115513</td>\n",
       "      <td>0.115513</td>\n",
       "      <td>0.090676</td>\n",
       "      <td>86441600</td>\n",
       "    </tr>\n",
       "    <tr>\n",
       "      <th>4</th>\n",
       "      <td>1980-12-18</td>\n",
       "      <td>0.118862</td>\n",
       "      <td>0.119420</td>\n",
       "      <td>0.118862</td>\n",
       "      <td>0.118862</td>\n",
       "      <td>0.093304</td>\n",
       "      <td>73449600</td>\n",
       "    </tr>\n",
       "  </tbody>\n",
       "</table>\n",
       "</div>"
      ],
      "text/plain": [
       "         Date      Open      High       Low     Close  Adj Close     Volume\n",
       "0  1980-12-12  0.128348  0.128906  0.128348  0.128348   0.100751  469033600\n",
       "1  1980-12-15  0.122210  0.122210  0.121652  0.121652   0.095495  175884800\n",
       "2  1980-12-16  0.113281  0.113281  0.112723  0.112723   0.088485  105728000\n",
       "3  1980-12-17  0.115513  0.116071  0.115513  0.115513   0.090676   86441600\n",
       "4  1980-12-18  0.118862  0.119420  0.118862  0.118862   0.093304   73449600"
      ]
     },
     "execution_count": 103,
     "metadata": {},
     "output_type": "execute_result"
    }
   ],
   "source": [
    "# Here we are using the headf method list the 5 top data \n",
    "aapl.head()"
   ]
  },
  {
   "cell_type": "code",
   "execution_count": 104,
   "id": "036d6d2d-f732-4c8f-a8de-0f797b81ab12",
   "metadata": {},
   "outputs": [
    {
     "data": {
      "text/html": [
       "<div>\n",
       "<style scoped>\n",
       "    .dataframe tbody tr th:only-of-type {\n",
       "        vertical-align: middle;\n",
       "    }\n",
       "\n",
       "    .dataframe tbody tr th {\n",
       "        vertical-align: top;\n",
       "    }\n",
       "\n",
       "    .dataframe thead th {\n",
       "        text-align: right;\n",
       "    }\n",
       "</style>\n",
       "<table border=\"1\" class=\"dataframe\">\n",
       "  <thead>\n",
       "    <tr style=\"text-align: right;\">\n",
       "      <th></th>\n",
       "      <th>Date</th>\n",
       "      <th>Open</th>\n",
       "      <th>High</th>\n",
       "      <th>Low</th>\n",
       "      <th>Close</th>\n",
       "      <th>Adj Close</th>\n",
       "      <th>Volume</th>\n",
       "    </tr>\n",
       "  </thead>\n",
       "  <tbody>\n",
       "    <tr>\n",
       "      <th>0</th>\n",
       "      <td>2004-08-19</td>\n",
       "      <td>49.813290</td>\n",
       "      <td>51.835709</td>\n",
       "      <td>47.800831</td>\n",
       "      <td>49.982655</td>\n",
       "      <td>49.982655</td>\n",
       "      <td>44871361</td>\n",
       "    </tr>\n",
       "    <tr>\n",
       "      <th>1</th>\n",
       "      <td>2004-08-20</td>\n",
       "      <td>50.316402</td>\n",
       "      <td>54.336334</td>\n",
       "      <td>50.062355</td>\n",
       "      <td>53.952770</td>\n",
       "      <td>53.952770</td>\n",
       "      <td>22942874</td>\n",
       "    </tr>\n",
       "    <tr>\n",
       "      <th>2</th>\n",
       "      <td>2004-08-23</td>\n",
       "      <td>55.168217</td>\n",
       "      <td>56.528118</td>\n",
       "      <td>54.321388</td>\n",
       "      <td>54.495735</td>\n",
       "      <td>54.495735</td>\n",
       "      <td>18342897</td>\n",
       "    </tr>\n",
       "    <tr>\n",
       "      <th>3</th>\n",
       "      <td>2004-08-24</td>\n",
       "      <td>55.412300</td>\n",
       "      <td>55.591629</td>\n",
       "      <td>51.591621</td>\n",
       "      <td>52.239197</td>\n",
       "      <td>52.239197</td>\n",
       "      <td>15319808</td>\n",
       "    </tr>\n",
       "    <tr>\n",
       "      <th>4</th>\n",
       "      <td>2004-08-25</td>\n",
       "      <td>52.284027</td>\n",
       "      <td>53.798351</td>\n",
       "      <td>51.746044</td>\n",
       "      <td>52.802086</td>\n",
       "      <td>52.802086</td>\n",
       "      <td>9232276</td>\n",
       "    </tr>\n",
       "  </tbody>\n",
       "</table>\n",
       "</div>"
      ],
      "text/plain": [
       "         Date       Open       High        Low      Close  Adj Close    Volume\n",
       "0  2004-08-19  49.813290  51.835709  47.800831  49.982655  49.982655  44871361\n",
       "1  2004-08-20  50.316402  54.336334  50.062355  53.952770  53.952770  22942874\n",
       "2  2004-08-23  55.168217  56.528118  54.321388  54.495735  54.495735  18342897\n",
       "3  2004-08-24  55.412300  55.591629  51.591621  52.239197  52.239197  15319808\n",
       "4  2004-08-25  52.284027  53.798351  51.746044  52.802086  52.802086   9232276"
      ]
     },
     "execution_count": 104,
     "metadata": {},
     "output_type": "execute_result"
    }
   ],
   "source": [
    "# Here we are using the headf method list the 5 top data\n",
    "goog.head()"
   ]
  },
  {
   "cell_type": "code",
   "execution_count": null,
   "id": "f1dc52d7-da6a-4c0e-a61a-a948637ed7a9",
   "metadata": {},
   "outputs": [],
   "source": []
  },
  {
   "cell_type": "code",
   "execution_count": 127,
   "id": "0cd7e979-c599-42b0-b34a-8711ac3e5140",
   "metadata": {},
   "outputs": [],
   "source": [
    "oneyear = 252\n",
    "years = 14\n",
    "timeperiod = years * oneyear\n"
   ]
  },
  {
   "cell_type": "code",
   "execution_count": 128,
   "id": "740a2655-9bab-4888-9518-72074af7538e",
   "metadata": {},
   "outputs": [
    {
     "data": {
      "image/png": "[encoded data removed]",
      "text/plain": [
       "<Figure size 1000x800 with 1 Axes>"
      ]
     },
     "metadata": {},
     "output_type": "display_data"
    }
   ],
   "source": [
    "fig = plt.figure(figsize = (10, 8))\n",
    "ax = fig.add_subplot(1, 1 ,1)\n",
    "%matplotlib inline\n",
    "ax.plot(aapl[\"Date\"].iloc[-timeperiod:], aapl[\"Adj Close\"].iloc[-timeperiod:], 'b-', label=\"Apple\")\n",
    "ax.plot(goog[\"Date\"].iloc[-timeperiod:], goog[\"Adj Close\"].iloc[-timeperiod:], 'g-', label=\"Google\")\n",
    "\n",
    "\n",
    "ax.set_xticks(np.arange(0, len(aapl[-timeperiod:]) , oneyear /2))\n",
    "plt.xticks(rotation = 90)\n",
    "plt.show()\n",
    "\n",
    "\n",
    "# Let try to add a legend to the figure\n",
    "ax.legend(loc = \"best\")\n",
    "ax.set_xlabel(\"Date\")\n",
    "ax.set_ylabel(\"Adjusted Close Price\")\n",
    "ax.set_title(\"Comparison of Stock Adjusted Closing Price for Apple and Google over the last \" + str(years) + 'years' )\n",
    "plt.show()"
   ]
  },
  {
   "cell_type": "code",
   "execution_count": null,
   "id": "79a7c152-da54-4918-9e72-7f10560d2529",
   "metadata": {},
   "outputs": [],
   "source": []
  },
  {
   "cell_type": "code",
   "execution_count": null,
   "id": "b526c3f9-8fb6-4a5b-b7b7-b490e5cffa68",
   "metadata": {},
   "outputs": [],
   "source": []
  },
  {
   "cell_type": "code",
   "execution_count": null,
   "id": "42e2a176-3192-42d4-a74a-0e1b3b777fc0",
   "metadata": {},
   "outputs": [],
   "source": []
  },
  {
   "cell_type": "code",
   "execution_count": null,
   "id": "80b46e30-0061-4da8-b7d5-907024db256a",
   "metadata": {},
   "outputs": [],
   "source": []
  },
  {
   "cell_type": "code",
   "execution_count": null,
   "id": "144158c3-4178-4df6-8d43-fefbb8f2482c",
   "metadata": {},
   "outputs": [],
   "source": []
  },
  {
   "cell_type": "code",
   "execution_count": null,
   "id": "15bc1288-73eb-4326-a6c9-25974210c7eb",
   "metadata": {},
   "outputs": [],
   "source": []
  },
  {
   "cell_type": "code",
   "execution_count": 108,
   "id": "ae84f2c0-ba65-4949-82a1-cb9798e0378e",
   "metadata": {},
   "outputs": [
    {
     "data": {
      "image/png": "[encoded data removed]",
      "text/plain": [
       "<Figure size 640x480 with 1 Axes>"
      ]
     },
     "metadata": {},
     "output_type": "display_data"
    }
   ],
   "source": [
    "import matplotlib.pyplot as plt\n",
    "\n",
    "fig, ax = plt.subplots()\n",
    "\n",
    "ax.plot(aapl[\"Date\"].iloc[-timeperiod:], aapl[\"Adj Close\"].iloc[-timeperiod:], 'b-', label=\"Apple\")\n",
    "ax.plot(goog[\"Date\"].iloc[-timeperiod:], goog[\"Adj Close\"].iloc[-timeperiod:], 'g-', label=\"Google\")\n",
    "\n",
    "ax.set_title(\"Stock Prices\")\n",
    "ax.set_xlabel(\"Date\")\n",
    "ax.set_ylabel(\"Adjusted Close\")\n",
    "ax.legend()\n",
    "\n",
    "plt.show()\n"
   ]
  },
  {
   "cell_type": "code",
   "execution_count": null,
   "id": "8b070651-c009-4d10-93da-85c0baff8435",
   "metadata": {},
   "outputs": [],
   "source": []
  },
  {
   "cell_type": "code",
   "execution_count": null,
   "id": "e335d363-c3ab-4e09-bac2-ee406177035f",
   "metadata": {},
   "outputs": [],
   "source": []
  },
  {
   "cell_type": "code",
   "execution_count": null,
   "id": "d8f9b85a-68b7-44ce-aa35-8568bc5daa36",
   "metadata": {},
   "outputs": [],
   "source": []
  },
  {
   "cell_type": "code",
   "execution_count": null,
   "id": "1fa0ffbe-2692-4e93-9dd6-b1174ba3bf2b",
   "metadata": {},
   "outputs": [],
   "source": []
  },
  {
   "cell_type": "code",
   "execution_count": null,
   "id": "18c96f5c-e556-4e65-9565-72de66908fd6",
   "metadata": {},
   "outputs": [],
   "source": []
  },
  {
   "cell_type": "code",
   "execution_count": null,
   "id": "9b886ad9-5774-400b-b971-5b7d4146ba0c",
   "metadata": {},
   "outputs": [],
   "source": []
  },
  {
   "cell_type": "code",
   "execution_count": null,
   "id": "4cae98d2-8f22-4627-bcf5-33cd1fdb1e43",
   "metadata": {},
   "outputs": [],
   "source": []
  },
  {
   "cell_type": "code",
   "execution_count": null,
   "id": "5fa81631-beba-4d35-b5b3-83262c2113a9",
   "metadata": {},
   "outputs": [],
   "source": []
  },
  {
   "cell_type": "code",
   "execution_count": null,
   "id": "09b60c2e-c75b-4428-942e-4974c32e97b2",
   "metadata": {},
   "outputs": [],
   "source": []
  },
  {
   "cell_type": "code",
   "execution_count": null,
   "id": "e49e0795-2a0a-49e8-b1d3-6dac14dc24fa",
   "metadata": {},
   "outputs": [],
   "source": []
  },
  {
   "cell_type": "code",
   "execution_count": null,
   "id": "055cb13c-bba1-4286-8fc4-6a1efe444b0b",
   "metadata": {},
   "outputs": [],
   "source": [
    "# Saka Raheem\n",
    "# CSCI 5015\n",
    "# Final Project\n",
    "# May 06, 2025 \n",
    "#Final Exam Project Part #3"
   ]
  },
  {
   "cell_type": "code",
   "execution_count": null,
   "id": "787d1d17-ea09-419a-a845-bc546335bbea",
   "metadata": {},
   "outputs": [],
   "source": [
    "# Here we are trying to read/ print  the list of carbohydrates and only the carbohydrates\n",
    "import pandas as pd\n",
    "import numpy as np\n",
    "import matplotlib.pyplot as plt\n",
    "\n",
    "%matplotlib inline"
   ]
  },
  {
   "cell_type": "code",
   "execution_count": null,
   "id": "0f6aa7b2-0660-4898-930b-246a06de8d83",
   "metadata": {},
   "outputs": [],
   "source": []
  }
 ],
 "metadata": {
  "kernelspec": {
   "display_name": "Python 3 (ipykernel)",
   "language": "python",
   "name": "python3"
  },
  "language_info": {
   "codemirror_mode": {
    "name": "ipython",
    "version": 3
   },
   "file_extension": ".py",
   "mimetype": "text/x-python",
   "name": "python",
   "nbconvert_exporter": "python",
   "pygments_lexer": "ipython3",
   "version": "3.12.7"
  }
 },
 "nbformat": 4,
 "nbformat_minor": 5
}

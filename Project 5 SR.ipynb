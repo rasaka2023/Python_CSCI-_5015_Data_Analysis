{
 "cells": [
  {
   "cell_type": "code",
   "execution_count": null,
   "id": "90b6bf18-62f8-434d-97d4-ec157e2903f3",
   "metadata": {},
   "outputs": [],
   "source": [
    "# Saka Raheem\n",
    "# CSCI 5015\n",
    "# Assignment #5\n",
    "# April 02, 2025\n",
    "# Exercise#1 "
   ]
  },
  {
   "cell_type": "code",
   "execution_count": 60,
   "id": "77298605-0071-4e0d-9414-8bfd3b6ebf2b",
   "metadata": {},
   "outputs": [
    {
     "name": "stdout",
     "output_type": "stream",
     "text": [
      "We are under the wrong directoyr , will need to figure under which directory we are currently\n"
     ]
    }
   ],
   "source": [
    "# I review the error ,I notice that I was under the wrong directory based on the error\n",
    "print(\"We are under the wrong directoyr , will need to figure out under which directory we are currently\")"
   ]
  },
  {
   "cell_type": "code",
   "execution_count": 62,
   "id": "0f868e25-0b02-4e68-af74-9b5f53b32c71",
   "metadata": {},
   "outputs": [
    {
     "data": {
      "text/plain": [
       "'C:\\\\Users\\\\user\\\\CSCI 5015\\\\examples'"
      ]
     },
     "execution_count": 62,
     "metadata": {},
     "output_type": "execute_result"
    }
   ],
   "source": [
    "pwd"
   ]
  },
  {
   "cell_type": "code",
   "execution_count": null,
   "id": "f2795d48-f687-41ad-9924-e142f3bf0eca",
   "metadata": {},
   "outputs": [],
   "source": []
  },
  {
   "cell_type": "code",
   "execution_count": 63,
   "id": "93a4f8e6-a1ea-42be-ac9e-77ba2689b91c",
   "metadata": {},
   "outputs": [
    {
     "name": "stdout",
     "output_type": "stream",
     "text": [
      "C:\\Users\\user\\CSCI 5015\\Data of Assignment 5\n"
     ]
    }
   ],
   "source": [
    "cd C:\\\\Users\\\\user\\\\CSCI 5015\\Data of Assignment 5\\\n"
   ]
  },
  {
   "cell_type": "code",
   "execution_count": 64,
   "id": "5baaf310-038e-4e64-82d5-fb35d7da6ffe",
   "metadata": {},
   "outputs": [
    {
     "data": {
      "text/plain": [
       "'C:\\\\Users\\\\user\\\\CSCI 5015\\\\Data of Assignment 5'"
      ]
     },
     "execution_count": 64,
     "metadata": {},
     "output_type": "execute_result"
    }
   ],
   "source": [
    "pwd"
   ]
  },
  {
   "cell_type": "code",
   "execution_count": 88,
   "id": "b03d4ddd-191f-4afc-a3ca-abf6be8d0822",
   "metadata": {},
   "outputs": [
    {
     "name": "stdout",
     "output_type": "stream",
     "text": [
      "22\n",
      "\n",
      "\n",
      "14\n",
      "\n",
      "\n",
      "90\n",
      "\n",
      "\n",
      "23\n",
      "\n",
      "\n",
      "45\n",
      "\n",
      "\n",
      "-10\n",
      "\n",
      "\n"
     ]
    }
   ],
   "source": [
    "import numpy as np\n",
    "\n",
    "# Here we are defining the location or path where the file is located at on our C\n",
    "path = 'C:\\\\Users\\\\user\\\\CSCI 5015\\\\Data of Assignment 5'\n",
    "\n",
    "'''Here were trying to open the file name \"numbers.txt\" locate on our C drive \n",
    "   We read and print each line using the with method\n",
    "   With this method I dont need to close out the file after open,\n",
    "   It should be close out automatically by itself '''\n",
    "\n",
    "\n",
    "\n",
    "with open(\"numbers.txt\", \"r\") as mydisplayfile:\n",
    "    for line in mydisplayfile:\n",
    "\n",
    "        '''  Here we are trying to make sure that all of the extra space or any newline \n",
    "             character will be removed from the line before will print it out '''\n",
    "        number = line.strip()\n",
    "        \n",
    "        # Here we are trying to print out every number within our numbers.txt file loccate  on our C drive\n",
    "        #print(f\"the file contain the following series of integers : {line}\\n\")\n",
    "        print(f\"{line}\\n\")\n",
    "    "
   ]
  },
  {
   "cell_type": "code",
   "execution_count": 87,
   "id": "4477cf4b-8be3-4629-8140-76ddc7c8e7e5",
   "metadata": {},
   "outputs": [
    {
     "name": "stdout",
     "output_type": "stream",
     "text": [
      "\n",
      "This is the end ofthe exercise#1 , now let procees to the next exercise\n"
     ]
    }
   ],
   "source": [
    "print (\"\\nThis is the end of the exercise#1 , now let proceed to the next exercise\")"
   ]
  },
  {
   "cell_type": "code",
   "execution_count": 38,
   "id": "617e3a6a-1252-4ddb-a82e-d27cf41f5c62",
   "metadata": {},
   "outputs": [],
   "source": [
    "# Saka Raheem\n",
    "# CSCI 5015\n",
    "# Assignment #5\n",
    "# April 02, 2025\n",
    "# Exercise#2 "
   ]
  },
  {
   "cell_type": "code",
   "execution_count": 39,
   "id": "f9a36bd8-f74f-4ac2-b349-95b9b601d42b",
   "metadata": {},
   "outputs": [
    {
     "data": {
      "text/plain": [
       "'C:\\\\Users\\\\user\\\\CSCI 5015\\\\Data of Assignment 5'"
      ]
     },
     "execution_count": 39,
     "metadata": {},
     "output_type": "execute_result"
    }
   ],
   "source": [
    "pwd\n"
   ]
  },
  {
   "cell_type": "code",
   "execution_count": 40,
   "id": "a0ea5f88-5ca4-4a73-b90c-ed524d65d531",
   "metadata": {},
   "outputs": [
    {
     "name": "stdout",
     "output_type": "stream",
     "text": [
      "C:\\Users\\user\\CSCI 5015\n"
     ]
    }
   ],
   "source": [
    "cd ..\n"
   ]
  },
  {
   "cell_type": "code",
   "execution_count": 41,
   "id": "350cbb7c-384c-4533-bae9-5a11ba6f9abd",
   "metadata": {},
   "outputs": [
    {
     "name": "stdout",
     "output_type": "stream",
     "text": [
      "C:\\Users\\user\\CSCI 5015\\examples\n"
     ]
    }
   ],
   "source": [
    "cd \\Users\\user\\CSCI 5015\\examples"
   ]
  },
  {
   "cell_type": "code",
   "execution_count": 43,
   "id": "d4f3c6a9-6989-40ed-a904-b9be110bc495",
   "metadata": {},
   "outputs": [
    {
     "name": "stdout",
     "output_type": "stream",
     "text": [
      " Volume in drive C has no label.\n",
      " Volume Serial Number is B2CE-1126\n",
      "\n",
      " Directory of C:\\Users\\user\\CSCI 5015\\examples\n",
      "\n",
      "04/03/2025  04:36 PM    <DIR>          .\n",
      "04/03/2025  04:36 PM    <DIR>          ..\n",
      "04/03/2025  04:36 PM    <DIR>          .ipynb_checkpoints\n",
      "04/03/2025  03:21 PM               150 names.txt\n",
      "04/03/2025  03:21 PM                13 numbers.txt\n",
      "04/03/2025  03:21 PM                38 philosophers.txt\n",
      "04/03/2025  03:21 PM                36 salary.txt\n",
      "04/03/2025  03:21 PM                40 sales.txt\n",
      "               5 File(s)            277 bytes\n",
      "               3 Dir(s)  407,743,946,752 bytes free\n"
     ]
    }
   ],
   "source": [
    "ls\n"
   ]
  },
  {
   "cell_type": "code",
   "execution_count": 48,
   "id": "f3f59ed7-a074-4644-95f0-dcce53ab9137",
   "metadata": {},
   "outputs": [
    {
     "data": {
      "text/plain": [
       "'C:\\\\Users\\\\user\\\\CSCI 5015\\\\examples'"
      ]
     },
     "execution_count": 48,
     "metadata": {},
     "output_type": "execute_result"
    }
   ],
   "source": [
    "pwd\n"
   ]
  },
  {
   "cell_type": "code",
   "execution_count": 68,
   "id": "8cf2f15d-8910-4a67-be28-c7e33c916510",
   "metadata": {},
   "outputs": [
    {
     "name": "stdout",
     "output_type": "stream",
     "text": [
      "We are trying to display the contain of the salary file first\n"
     ]
    }
   ],
   "source": [
    "# Let try to display the contain of the salray.txt file first\n",
    "print(\"We are trying to display the contain of the salary file first\")"
   ]
  },
  {
   "cell_type": "code",
   "execution_count": 52,
   "id": "48d311f9-a57c-47aa-af4c-468ad8a4afea",
   "metadata": {},
   "outputs": [
    {
     "name": "stdout",
     "output_type": "stream",
     "text": [
      "24.5\n",
      "12.2\n",
      "14.6\n",
      "20.4\n",
      "22.5\n",
      "19.3\n",
      "\n"
     ]
    }
   ],
   "source": [
    "import numpy as np\n",
    "\n",
    "# Here we are defining the location or path where the file is located at on our C\n",
    "path ='C:\\\\Users\\\\user\\\\CSCI 5015\\\\examples\\\\salary.txt'\n",
    "\n",
    "''' Here we are trying to open the file name salarys.txt using the open() methoD  \n",
    "    and also define a variable \"f\" to the file that will be opened '''\n",
    "f = open (path, 'r')\n",
    "file_contents =f.read()\n",
    "f.close()\n",
    "print( file_contents)"
   ]
  },
  {
   "cell_type": "code",
   "execution_count": 72,
   "id": "b1a51425-c286-459c-a731-ff305e58575f",
   "metadata": {},
   "outputs": [
    {
     "name": "stdout",
     "output_type": "stream",
     "text": [
      " Now we are trying to find the pay for every day:\n"
     ]
    }
   ],
   "source": [
    "print( \" Now we are trying to find the pay for every day:\") "
   ]
  },
  {
   "cell_type": "code",
   "execution_count": null,
   "id": "ee668c97-68d6-49d6-b0d0-166901d8d02f",
   "metadata": {},
   "outputs": [],
   "source": []
  },
  {
   "cell_type": "code",
   "execution_count": 89,
   "id": "43985a65-3cb1-40d4-963a-996d64ae8d86",
   "metadata": {},
   "outputs": [
    {
     "name": "stdout",
     "output_type": "stream",
     "text": [
      "day# 1 : 24.5\n",
      "day# 2 : 12.2\n",
      "day# 3 : 14.6\n",
      "day# 4 : 20.4\n",
      "day# 5 : 22.5\n",
      "day# 6 : 19.3\n",
      "\n",
      "The total salary is 113.5\n",
      "\n",
      "To avoid having incorrect result on this section of the code, we should make sure that 'total= 0.0' and 'count = 0' are both include on top and within cell where the for loop will be defined\n"
     ]
    }
   ],
   "source": [
    "import numpy as np\n",
    "\n",
    "# Here we are initializing total accumalator to 0\n",
    "total= 0.0\n",
    "# Here we are initializing a count variable to 0\n",
    "count = 0\n",
    "\n",
    "# Here we are defining the location or path where the file is located at on our C\n",
    "path ='C:\\\\Users\\\\user\\\\CSCI 5015\\\\examples\\\\salary.txt'\n",
    "\n",
    "''' Here we are trying to open the file name salarys.txt using the open() methoD  \n",
    "    and also define a variable \"f\" to the file that will be opened '''\n",
    "salary_file = open (path, 'r')\n",
    "\n",
    "'''Here we are using the for loop to loop into the file\n",
    "   which will help to prcoess  each line within the file '''\n",
    "\n",
    "for line in salary_file:\n",
    "    salary = float(line) # Here we converting line to float\n",
    "    count += 1 # Here we are trying to start the ccounting of the day from 1   \n",
    "    print('day#' , count, \":\", salary)\n",
    "    total += salary \n",
    "salary_file.close()\n",
    "print('\\nThe total salary is', total)\n",
    "\n",
    "print(\"\\nTo avoid having incorrect result on this section of the code, we should make sure that 'total= 0.0' and 'count = 0' are both include on top and within cell where the for loop will be defined\" )"
   ]
  },
  {
   "cell_type": "code",
   "execution_count": null,
   "id": "f48d03cc-4516-4b01-bff3-34a82e87596d",
   "metadata": {},
   "outputs": [],
   "source": []
  }
 ],
 "metadata": {
  "kernelspec": {
   "display_name": "Python 3 (ipykernel)",
   "language": "python",
   "name": "python3"
  },
  "language_info": {
   "codemirror_mode": {
    "name": "ipython",
    "version": 3
   },
   "file_extension": ".py",
   "mimetype": "text/x-python",
   "name": "python",
   "nbconvert_exporter": "python",
   "pygments_lexer": "ipython3",
   "version": "3.12.7"
  }
 },
 "nbformat": 4,
 "nbformat_minor": 5
}

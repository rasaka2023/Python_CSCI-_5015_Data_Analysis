{
 "cells": [
  {
   "cell_type": "code",
   "execution_count": 304,
   "id": "d94f876c-526b-419e-9a46-78512a4254d4",
   "metadata": {},
   "outputs": [],
   "source": [
    "# Saka Raheem\n",
    "# CSCI 5015\n",
    "# Assignment #2\n",
    "# Feb 10, 2025\n",
    "# Exercise#1 From Assignment#2 : String"
   ]
  },
  {
   "cell_type": "code",
   "execution_count": 305,
   "id": "e5f115e6-5f2b-460b-8dbc-fbe71ee57ec1",
   "metadata": {},
   "outputs": [
    {
     "name": "stdout",
     "output_type": "stream",
     "text": [
      " ********* WELCOME TO DR. ALICE SPRING 2025, CLASS CSCI 5015. WE ARE HAPPY TO BE LEARNING PYTHON PROGRAMMING LANGUAGE *********\n",
      "My variable firstName contains : SAKA\n"
     ]
    }
   ],
   "source": [
    "# This code will allow to crat variable called \"firstName\" that will contains my first name\n",
    "\n",
    "print(\" ********* WELCOME TO DR. ALICE SPRING 2025, CLASS CSCI 5015. WE ARE HAPPY TO BE LEARNING PYTHON PROGRAMMING LANGUAGE *********\") \n",
    "# Defining the variable \"firstName\"\n",
    "firstName = \"SAKA\"\n",
    "\n",
    "# printing the above defined variable wit the F-string concetenation\n",
    "print(f\"My variable firstName contains : {firstName}\")\n"
   ]
  },
  {
   "cell_type": "code",
   "execution_count": 306,
   "id": "1f7d15a6-9aa3-470f-aebe-c2989c5dd6a8",
   "metadata": {},
   "outputs": [
    {
     "name": "stdout",
     "output_type": "stream",
     "text": [
      "My variable lastName contains : RAHEEM\n"
     ]
    }
   ],
   "source": [
    "# This code will allow to create variable called \"lastName\" that will contains my last name\n",
    "\n",
    "# Defining the variable \"LastName\"\n",
    "lastName= \"RAHEEM\"\n",
    " \n",
    "# printing the above defined variable wit the f-string concetenation\n",
    "print(f\"My variable lastName contains : {lastName}\")\n"
   ]
  },
  {
   "cell_type": "code",
   "execution_count": 307,
   "id": "6bef8e3d-831d-479e-be35-eb94469de307",
   "metadata": {},
   "outputs": [
    {
     "name": "stdout",
     "output_type": "stream",
     "text": [
      "My name is:SAKA RAHEEM\n",
      "The first letter in my name is: S\n",
      "The last letter in my  name is: M\n",
      "The lenght of my name is: 11\n",
      "The letter in name not including the first and last letter is: AKA RAHEE\n",
      "********** PYTHON IS A GOOD PROGRAMMING LANGAUE THAT SAKA RAHEEM HAVE TO KEEP LEARNING *********\n"
     ]
    }
   ],
   "source": [
    "\"\"\"\n",
    "This code will allow to use the concatenation operator to join:\n",
    "1. the firstName\n",
    "2. a space character\n",
    "3. and the lastName variables into a single variable named “name”\n",
    "\n",
    "It will also to print out the first and last letter of my name variable\n",
    "as well as the length of name variable\n",
    "\"\"\"\n",
    "\n",
    "# Here we are Defining my variables firstName and lastName\n",
    "firstName = \"SAKA\"\n",
    "lastName= \"RAHEEM\"\n",
    "\n",
    "# Here we are defining my variable name\n",
    "name = firstName+\" \"+ lastName\n",
    "\n",
    "\"\"\"\n",
    "    This is where we are Using \"f-string\" to print my name variable, \n",
    "    the first and last letterS in the variable name,\n",
    "    and the lengh of the variablename\n",
    "\n",
    "\"\"\"\n",
    "print(f\"My name is:{name}\")\n",
    "print(f\"The first letter in my name is: {name[0]}\")\n",
    "print(f\"The last letter in my  name is: {name[10]}\")\n",
    "print(f\"The lenght of my name is: {len(name)}\")\n",
    "\n",
    "\n",
    "# These two methods below will provide same result.\n",
    "#print(f\"The letter in name not including the first and last letter is: {name[1:10]}\")\n",
    "print(f\"The letter in name not including the first and last letter is: {name[-10:-1]}\")\n",
    "\n",
    "print(f\"********** PYTHON IS A GOOD PROGRAMMING LANGAUE THAT {name} HAVE TO KEEP LEARNING *********\")"
   ]
  },
  {
   "cell_type": "code",
   "execution_count": 308,
   "id": "b90f82a2-8e93-4faa-8fef-897f20517ed9",
   "metadata": {},
   "outputs": [
    {
     "data": {
      "text/plain": [
       "'\\n    *************** This section is what seperating how Exercise#1 fro Exercise#2*********************\\n        ********I am enjoying Python Programming on Jupyter Notebook*******\\n\\n'"
      ]
     },
     "execution_count": 308,
     "metadata": {},
     "output_type": "execute_result"
    }
   ],
   "source": [
    "\"\"\"\n",
    "    *************** This section is what seperating how Exercise#1 fro Exercise#2*********************\n",
    "        ********I am enjoying Python Programming on Jupyter Notebook*******\n",
    "\n",
    "\"\"\""
   ]
  },
  {
   "cell_type": "code",
   "execution_count": 309,
   "id": "a890fb54-9031-4dc2-999a-06855377aa65",
   "metadata": {},
   "outputs": [],
   "source": [
    "# Saka Raheem\n",
    "# CSCI 5015\n",
    "# Assignment #2\n",
    "# Feb 10, 2025\n",
    "# Exercise#2 From Assignment#2 : Lists"
   ]
  },
  {
   "cell_type": "code",
   "execution_count": 310,
   "id": "2ac84a93-ebe4-498e-b1ca-4a2052e95c2a",
   "metadata": {},
   "outputs": [
    {
     "name": "stdout",
     "output_type": "stream",
     "text": [
      "This is the list of all elements within my list:['band1', 'band2', 'band3', 'band4', 'band5']\n",
      "This is the initial length of the list for our favority bands:5\n"
     ]
    }
   ],
   "source": [
    "# This code will allow to create a list of our 5 favority bands and report their length\n",
    "\n",
    "# Here were are defining the list of our 5 favorite bands.\n",
    "bands = [ \"band1\", \"band2\", \"band3\", \"band4\", \"band5\"]\n",
    "\n",
    "# Here we are reporting out the list by printing every element within that list.\n",
    "print(f\"This is the list of all elements within my list:{bands}\")\n",
    "\n",
    "# Here we are leveraging f-string to report the initial length of the list.\n",
    "print(f\"This is the initial length of the list for our favority bands:{len(bands)}\")\n"
   ]
  },
  {
   "cell_type": "code",
   "execution_count": 316,
   "id": "10105a0a-e092-4cd1-848f-113cb256a7f8",
   "metadata": {},
   "outputs": [
    {
     "name": "stdout",
     "output_type": "stream",
     "text": [
      "Stored 'bands' (list)\n",
      "Yeah :) :) We have successfully added a new band into our bands list using append method, and the new band is : band6 :) :)\n",
      "Here are all of the elements within our list ['band1', 'band2', 'band3', 'band4', 'band5', 'band6'] including band6\n",
      "This is the new length of our bands favority the list:6\n"
     ]
    }
   ],
   "source": [
    "\"\"\"\n",
    "    This code will allow to add a sixth band to the end of the above list using \"append\" method.\n",
    "    Here the code will append new element name \"band6\" into the list of our favorite bands.\n",
    "    We will use the \"if statement\" method to avoid the repetitive adding of \"band6\" into our list.\n",
    "\"\"\"\n",
    "\n",
    "# Here we are defining the new band as the string before using it within our code. I was getting band6 not define \"error\". when I used \"band6\" directly within the \" if statement\".\n",
    "# By adding it like this way, it resolved the issue of  \" band6 not define\" when the code is run\"\n",
    "band6 = \"string\"\n",
    "\n",
    "# Here we are just redefining the previous list that was created .\n",
    "bands = [ \"band1\", \"band2\", \"band3\", \"band4\", \"band5\"]\n",
    "\n",
    "# Here we are trying to store my \"bands\" list in the way to make it persistent through out my code.\n",
    "# This will allow to perserver our list, and useful during the following lines of our code.\n",
    "%store bands\n",
    "\n",
    "\"\"\"\n",
    "    Here we are checking to se if the element \"band6\" already exist or not in the bands list.\n",
    "    If it is not, our code will go ahead and add it, in contrary it will not add it.\n",
    "\"\"\"\n",
    "if band6 not in bands:\n",
    "    \n",
    "    bands.append(\"band6\")\n",
    "\n",
    "    # Here we are reporting the index or position of the newly added band into our \"bands\" list.\n",
    "    print(f\"Yeah :) :) We have successfully added a new band into our bands list using append method, and the new band is : {(bands[5])} :) :)\")\n",
    "\n",
    "    # Here we are reporting every elements or band that exist within  our \"bands\" list.    \n",
    "    print(f\"Here are all of the elements within our list {bands} including {(bands[5])}\")\n",
    "        \n",
    "else:\n",
    "    # Here we trying to inform the user if the band could be added to the \"bands\" list.\n",
    "    print(f\"Sorry new band name {band6} , cant be attended at this time  ;(\")\n",
    "    \n",
    "# Here we are leveraging f-string to report the new length of our favorit band\n",
    "print(f\"This is the new length of our bands favority the list:{len(bands)}\")"
   ]
  },
  {
   "cell_type": "code",
   "execution_count": 317,
   "id": "77c86e14-3569-43a8-be56-eb250d4b20b5",
   "metadata": {},
   "outputs": [
    {
     "name": "stdout",
     "output_type": "stream",
     "text": [
      "The current elements within my bands list are the followings : ['band1', 'band2', 'band3', 'band4', 'band5', 'band6']\n",
      " Index 0: band1\n",
      " Index 1: band2\n",
      " Index 2: band3\n",
      " Index 3: band4\n",
      " Index 4: band5\n",
      " Index 5: band6\n",
      "The new length of my favorite musical bands: 6\n",
      "My current favorite band in the third position is: band3\n",
      "The new band that will replace band3 in our bands list will be: my-wakanda-band\n",
      "Here is my update list with the new band: ['band1', 'band2', 'my-wakanda-band', 'band4', 'band5', 'band6']\n",
      "The new element in the third index is : my-wakanda-band\n"
     ]
    }
   ],
   "source": [
    "\n",
    "# Here we are reporting every elements or band that exist with our list. \n",
    "print(f\"The current elements within my bands list are the followings : {bands}\")\n",
    "\n",
    "# Here we are using \"for loop\" :to report and present each element/band within my list bands along with their asscoiated index.\n",
    "for i in range(len(bands)):\n",
    "    print(f\" Index {i}: {bands[i]}\")\n",
    "\n",
    "# Here we are using the len() function to report the new length of the list\n",
    "print(f\"The new length of my favorite musical bands: {len(bands)}\") \n",
    "\n",
    "# Here we are identifying and reporting the current band in the third position before change to a new one later on.\n",
    "print(f\"My current favorite band in the third position is: {bands[2]}\")\n",
    "\n",
    "# Here we are trying to show the  the new band that will replace the index 3 on our \"bands\" list\n",
    "print(f\"The new band that will replace band3 in our bands list will be: my-wakanda-band\")\n",
    "\n",
    "\"\"\"\n",
    "   Here we are defining the element that we want replace exactly at the third location.\n",
    "   Remark: We will be using indexing approach here since we know the list element and its exact position that we want to replace.\n",
    "   To find the index position we should account the number of elment within our list starting from zero index/position \n",
    "   for the element within the list if we are counting from left to right, and or starting from -1  if we are counting from rigth to the left.\n",
    "   For instance if  we have n element in the \"band\" list index = n-1\n",
    "\"\"\"\n",
    "\n",
    "# Here Here we are reaplacing or changing the third band name \"band3\" with the new band name \"my-wakanda-band\".\n",
    "# The method we are leveraging here is index method.\n",
    "bands[2] = \"my-wakanda-band\"\n",
    "\n",
    "# Here we are trying to print the new list after replace the the third index.\n",
    "print(f\"Here is my update list with the new band: {bands}\")\n",
    "\n",
    "# Here we are reporting just the new third index within our list\n",
    "print(f\"The new element in the third index is : {bands[2]}\")\n"
   ]
  },
  {
   "cell_type": "code",
   "execution_count": 324,
   "id": "b660ca67-757f-4c73-a7f7-cdc7b4d36df1",
   "metadata": {},
   "outputs": [
    {
     "name": "stdout",
     "output_type": "stream",
     "text": [
      "The current elements within my bands list are the followings : ['band1', 'band2', 'my-wakanda-band', 'band4', 'band5', 'band6']\n",
      "In Python, the number of index does not have to correspond neccesarry to the number of the position. there......\n",
      " Index 0: band1\n",
      " Index 1: band2\n",
      " Index 2: my-wakanda-band\n",
      " Index 3: band4\n",
      " Index 4: band5\n",
      " Index 5: band6\n",
      "The third, fourth, and fifth is: ['band2', 'my-wakanda-band', 'band4']\n"
     ]
    }
   ],
   "source": [
    "# Here we are reporting every elements or band that exist with our list. \n",
    "print(f\"The current elements within my bands list are the followings : {bands}\")\n",
    "\n",
    "# Here we are reminding people the different between the index and the postion\n",
    "print(f\"In Python, the number of index does not have to correspond neccesarry to the number of the position. there......\")\n",
    "\n",
    "# Here we are using \"for loop\" :to report and present each element/band within my list bands along with their asscoiated index.\n",
    "for j in range(len(bands)):\n",
    "    print(f\" Index {j}: {bands[j]}\")\n",
    "\n",
    "# Here we are reporting the third, fouth, and the fifth in our list using a single Python Slice\n",
    "print(f\"The third, fourth, and fifth is: {bands[1:4]}\")\n"
   ]
  },
  {
   "cell_type": "code",
   "execution_count": null,
   "id": "23ecca29-175c-41cd-a27b-389a765a6122",
   "metadata": {},
   "outputs": [],
   "source": []
  },
  {
   "cell_type": "code",
   "execution_count": null,
   "id": "c0711522-ecfc-4fb4-bd4f-ba1c2b8c0c87",
   "metadata": {},
   "outputs": [],
   "source": []
  },
  {
   "cell_type": "code",
   "execution_count": null,
   "id": "367f936c-1d94-4a2e-ab50-11d185d92f36",
   "metadata": {},
   "outputs": [],
   "source": []
  }
 ],
 "metadata": {
  "kernelspec": {
   "display_name": "Python 3 (ipykernel)",
   "language": "python",
   "name": "python3"
  },
  "language_info": {
   "codemirror_mode": {
    "name": "ipython",
    "version": 3
   },
   "file_extension": ".py",
   "mimetype": "text/x-python",
   "name": "python",
   "nbconvert_exporter": "python",
   "pygments_lexer": "ipython3",
   "version": "3.12.7"
  }
 },
 "nbformat": 4,
 "nbformat_minor": 5
}
